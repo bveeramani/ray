{
 "cells": [
  {
   "cell_type": "markdown",
   "id": "c6962854",
   "metadata": {},
   "source": [
    "# Training a Torch Classifier\n",
    "\n",
    "This tutorial demonstrates how to train an image classifier using the [Ray AI Runtime](air) (AIR).\n",
    "\n",
    "You should be familiar with [PyTorch](https://pytorch.org/) before starting the tutorial. If you need a refresher, read PyTorch's [training a classifier](https://pytorch.org/tutorials/beginner/blitz/cifar10_tutorial.html) tutorial.\n",
    "\n",
    "## Before you begin\n",
    "\n",
    "* Install the [Ray AI Runtime](air). You'll need Ray 1.13 later to run this example."
   ]
  },
  {
   "cell_type": "code",
   "execution_count": 1,
   "id": "d806ba6b",
   "metadata": {},
   "outputs": [
    {
     "name": "stdout",
     "output_type": "stream",
     "text": [
      "Requirement already satisfied: ray[air] in /Users/bveeramani/GitHub/ray/python (3.0.0.dev0)\n",
      "Requirement already satisfied: attrs in /Users/bveeramani/GitHub/ray/.venv/lib/python3.9/site-packages (from ray[air]) (21.4.0)\n",
      "Requirement already satisfied: click<=8.0.4,>=7.0 in /Users/bveeramani/GitHub/ray/.venv/lib/python3.9/site-packages (from ray[air]) (7.1.2)\n",
      "Requirement already satisfied: filelock in /Users/bveeramani/GitHub/ray/.venv/lib/python3.9/site-packages (from ray[air]) (3.7.1)\n",
      "Requirement already satisfied: jsonschema in /Users/bveeramani/GitHub/ray/.venv/lib/python3.9/site-packages (from ray[air]) (4.8.0)\n",
      "Requirement already satisfied: msgpack<2.0.0,>=1.0.0 in /Users/bveeramani/GitHub/ray/.venv/lib/python3.9/site-packages (from ray[air]) (1.0.4)\n",
      "Requirement already satisfied: protobuf<4.0.0,>=3.15.3 in /Users/bveeramani/GitHub/ray/.venv/lib/python3.9/site-packages (from ray[air]) (3.19.4)\n",
      "Requirement already satisfied: pyyaml in /Users/bveeramani/GitHub/ray/.venv/lib/python3.9/site-packages (from ray[air]) (6.0)\n",
      "Requirement already satisfied: aiosignal in /Users/bveeramani/GitHub/ray/.venv/lib/python3.9/site-packages (from ray[air]) (1.2.0)\n",
      "Requirement already satisfied: frozenlist in /Users/bveeramani/GitHub/ray/.venv/lib/python3.9/site-packages (from ray[air]) (1.3.0)\n",
      "Requirement already satisfied: requests in /Users/bveeramani/GitHub/ray/.venv/lib/python3.9/site-packages (from ray[air]) (2.28.1)\n",
      "Requirement already satisfied: virtualenv in /Users/bveeramani/GitHub/ray/.venv/lib/python3.9/site-packages (from ray[air]) (20.16.2)\n",
      "Requirement already satisfied: grpcio<=1.43.0,>=1.28.1 in /Users/bveeramani/GitHub/ray/.venv/lib/python3.9/site-packages (from ray[air]) (1.43.0)\n",
      "Requirement already satisfied: numpy>=1.19.3 in /Users/bveeramani/GitHub/ray/.venv/lib/python3.9/site-packages (from ray[air]) (1.23.1)\n",
      "Requirement already satisfied: prometheus_client<0.14.0,>=0.7.1 in /Users/bveeramani/GitHub/ray/.venv/lib/python3.9/site-packages (from ray[air]) (0.13.1)\n",
      "Requirement already satisfied: pandas>=1.3 in /Users/bveeramani/GitHub/ray/.venv/lib/python3.9/site-packages (from ray[air]) (1.4.3)\n",
      "Requirement already satisfied: colorful in /Users/bveeramani/GitHub/ray/.venv/lib/python3.9/site-packages (from ray[air]) (0.5.4)\n",
      "Requirement already satisfied: py-spy>=0.2.0 in /Users/bveeramani/GitHub/ray/.venv/lib/python3.9/site-packages (from ray[air]) (0.3.12)\n",
      "Requirement already satisfied: uvicorn==0.16.0 in /Users/bveeramani/GitHub/ray/.venv/lib/python3.9/site-packages (from ray[air]) (0.16.0)\n",
      "Requirement already satisfied: aiohttp_cors in /Users/bveeramani/GitHub/ray/.venv/lib/python3.9/site-packages (from ray[air]) (0.7.0)\n",
      "Requirement already satisfied: aiohttp>=3.7 in /Users/bveeramani/GitHub/ray/.venv/lib/python3.9/site-packages (from ray[air]) (3.8.1)\n",
      "Requirement already satisfied: gpustat>=1.0.0b1 in /Users/bveeramani/GitHub/ray/.venv/lib/python3.9/site-packages (from ray[air]) (1.0.0rc1)\n",
      "Requirement already satisfied: fastapi in /Users/bveeramani/GitHub/ray/.venv/lib/python3.9/site-packages (from ray[air]) (0.79.0)\n",
      "Requirement already satisfied: opencensus in /Users/bveeramani/GitHub/ray/.venv/lib/python3.9/site-packages (from ray[air]) (0.11.0)\n",
      "Requirement already satisfied: starlette in /Users/bveeramani/GitHub/ray/.venv/lib/python3.9/site-packages (from ray[air]) (0.19.1)\n",
      "Requirement already satisfied: aiorwlock in /Users/bveeramani/GitHub/ray/.venv/lib/python3.9/site-packages (from ray[air]) (1.3.0)\n",
      "Requirement already satisfied: tensorboardX>=1.9 in /Users/bveeramani/GitHub/ray/.venv/lib/python3.9/site-packages (from ray[air]) (2.5.1)\n",
      "Requirement already satisfied: pyarrow<7.0.0,>=6.0.1 in /Users/bveeramani/GitHub/ray/.venv/lib/python3.9/site-packages (from ray[air]) (6.0.1)\n",
      "Requirement already satisfied: tabulate in /Users/bveeramani/GitHub/ray/.venv/lib/python3.9/site-packages (from ray[air]) (0.8.10)\n",
      "Requirement already satisfied: pydantic in /Users/bveeramani/GitHub/ray/.venv/lib/python3.9/site-packages (from ray[air]) (1.9.1)\n",
      "Requirement already satisfied: smart_open in /Users/bveeramani/GitHub/ray/.venv/lib/python3.9/site-packages (from ray[air]) (6.0.0)\n",
      "Requirement already satisfied: fsspec in /Users/bveeramani/GitHub/ray/.venv/lib/python3.9/site-packages (from ray[air]) (2022.7.0)\n",
      "Requirement already satisfied: h11>=0.8 in /Users/bveeramani/GitHub/ray/.venv/lib/python3.9/site-packages (from uvicorn==0.16.0->ray[air]) (0.13.0)\n",
      "Requirement already satisfied: asgiref>=3.4.0 in /Users/bveeramani/GitHub/ray/.venv/lib/python3.9/site-packages (from uvicorn==0.16.0->ray[air]) (3.5.2)\n",
      "Requirement already satisfied: yarl<2.0,>=1.0 in /Users/bveeramani/GitHub/ray/.venv/lib/python3.9/site-packages (from aiohttp>=3.7->ray[air]) (1.7.2)\n",
      "Requirement already satisfied: multidict<7.0,>=4.5 in /Users/bveeramani/GitHub/ray/.venv/lib/python3.9/site-packages (from aiohttp>=3.7->ray[air]) (6.0.2)\n",
      "Requirement already satisfied: charset-normalizer<3.0,>=2.0 in /Users/bveeramani/GitHub/ray/.venv/lib/python3.9/site-packages (from aiohttp>=3.7->ray[air]) (2.1.0)\n",
      "Requirement already satisfied: async-timeout<5.0,>=4.0.0a3 in /Users/bveeramani/GitHub/ray/.venv/lib/python3.9/site-packages (from aiohttp>=3.7->ray[air]) (4.0.2)\n",
      "Requirement already satisfied: psutil>=5.6.0 in /Users/bveeramani/GitHub/ray/.venv/lib/python3.9/site-packages (from gpustat>=1.0.0b1->ray[air]) (5.9.1)\n",
      "Requirement already satisfied: blessed>=1.17.1 in /Users/bveeramani/GitHub/ray/.venv/lib/python3.9/site-packages (from gpustat>=1.0.0b1->ray[air]) (1.19.1)\n",
      "Requirement already satisfied: six>=1.7 in /Users/bveeramani/GitHub/ray/.venv/lib/python3.9/site-packages (from gpustat>=1.0.0b1->ray[air]) (1.15.0)\n",
      "Requirement already satisfied: nvidia-ml-py<=11.495.46,>=11.450.129 in /Users/bveeramani/GitHub/ray/.venv/lib/python3.9/site-packages (from gpustat>=1.0.0b1->ray[air]) (11.495.46)\n",
      "Requirement already satisfied: python-dateutil>=2.8.1 in /Users/bveeramani/GitHub/ray/.venv/lib/python3.9/site-packages (from pandas>=1.3->ray[air]) (2.8.2)\n",
      "Requirement already satisfied: pytz>=2020.1 in /Users/bveeramani/GitHub/ray/.venv/lib/python3.9/site-packages (from pandas>=1.3->ray[air]) (2022.1)\n",
      "Requirement already satisfied: anyio<5,>=3.4.0 in /Users/bveeramani/GitHub/ray/.venv/lib/python3.9/site-packages (from starlette->ray[air]) (3.6.1)\n",
      "Requirement already satisfied: typing-extensions>=3.10.0 in /Users/bveeramani/GitHub/ray/.venv/lib/python3.9/site-packages (from starlette->ray[air]) (4.3.0)\n",
      "Requirement already satisfied: pyrsistent!=0.17.0,!=0.17.1,!=0.17.2,>=0.14.0 in /Users/bveeramani/GitHub/ray/.venv/lib/python3.9/site-packages (from jsonschema->ray[air]) (0.18.1)\n",
      "Requirement already satisfied: opencensus-context>=0.1.3 in /Users/bveeramani/GitHub/ray/.venv/lib/python3.9/site-packages (from opencensus->ray[air]) (0.1.3)\n",
      "Requirement already satisfied: google-api-core<3.0.0,>=1.0.0 in /Users/bveeramani/GitHub/ray/.venv/lib/python3.9/site-packages (from opencensus->ray[air]) (2.8.2)\n",
      "Requirement already satisfied: certifi>=2017.4.17 in /Users/bveeramani/GitHub/ray/.venv/lib/python3.9/site-packages (from requests->ray[air]) (2022.6.15)\n",
      "Requirement already satisfied: idna<4,>=2.5 in /Users/bveeramani/GitHub/ray/.venv/lib/python3.9/site-packages (from requests->ray[air]) (3.3)\n",
      "Requirement already satisfied: urllib3<1.27,>=1.21.1 in /Users/bveeramani/GitHub/ray/.venv/lib/python3.9/site-packages (from requests->ray[air]) (1.26.11)\n",
      "Requirement already satisfied: distlib<1,>=0.3.1 in /Users/bveeramani/GitHub/ray/.venv/lib/python3.9/site-packages (from virtualenv->ray[air]) (0.3.5)\n",
      "Requirement already satisfied: platformdirs<3,>=2 in /Users/bveeramani/GitHub/ray/.venv/lib/python3.9/site-packages (from virtualenv->ray[air]) (2.5.2)\n",
      "Requirement already satisfied: sniffio>=1.1 in /Users/bveeramani/GitHub/ray/.venv/lib/python3.9/site-packages (from anyio<5,>=3.4.0->starlette->ray[air]) (1.2.0)\n",
      "Requirement already satisfied: wcwidth>=0.1.4 in /Users/bveeramani/GitHub/ray/.venv/lib/python3.9/site-packages (from blessed>=1.17.1->gpustat>=1.0.0b1->ray[air]) (0.2.5)\n",
      "Requirement already satisfied: googleapis-common-protos<2.0dev,>=1.56.2 in /Users/bveeramani/GitHub/ray/.venv/lib/python3.9/site-packages (from google-api-core<3.0.0,>=1.0.0->opencensus->ray[air]) (1.56.4)\n",
      "Requirement already satisfied: google-auth<3.0dev,>=1.25.0 in /Users/bveeramani/GitHub/ray/.venv/lib/python3.9/site-packages (from google-api-core<3.0.0,>=1.0.0->opencensus->ray[air]) (2.9.1)\n",
      "Requirement already satisfied: rsa<5,>=3.1.4 in /Users/bveeramani/GitHub/ray/.venv/lib/python3.9/site-packages (from google-auth<3.0dev,>=1.25.0->google-api-core<3.0.0,>=1.0.0->opencensus->ray[air]) (4.9)\n",
      "Requirement already satisfied: cachetools<6.0,>=2.0.0 in /Users/bveeramani/GitHub/ray/.venv/lib/python3.9/site-packages (from google-auth<3.0dev,>=1.25.0->google-api-core<3.0.0,>=1.0.0->opencensus->ray[air]) (5.2.0)\n",
      "Requirement already satisfied: pyasn1-modules>=0.2.1 in /Users/bveeramani/GitHub/ray/.venv/lib/python3.9/site-packages (from google-auth<3.0dev,>=1.25.0->google-api-core<3.0.0,>=1.0.0->opencensus->ray[air]) (0.2.8)\n",
      "Requirement already satisfied: pyasn1<0.5.0,>=0.4.6 in /Users/bveeramani/GitHub/ray/.venv/lib/python3.9/site-packages (from pyasn1-modules>=0.2.1->google-auth<3.0dev,>=1.25.0->google-api-core<3.0.0,>=1.0.0->opencensus->ray[air]) (0.4.8)\n"
     ]
    }
   ],
   "source": [
    "!pip install 'ray[air]'"
   ]
  },
  {
   "cell_type": "markdown",
   "id": "6d588ce2",
   "metadata": {},
   "source": [
    "* Install `requests`, `torch`, and `torchvision`"
   ]
  },
  {
   "cell_type": "code",
   "execution_count": 2,
   "id": "77a70a7a",
   "metadata": {},
   "outputs": [
    {
     "name": "stdout",
     "output_type": "stream",
     "text": [
      "Requirement already satisfied: requests in /Users/bveeramani/GitHub/ray/.venv/lib/python3.9/site-packages (2.28.1)\n",
      "Requirement already satisfied: torch in /Users/bveeramani/GitHub/ray/.venv/lib/python3.9/site-packages (1.12.0)\n",
      "Requirement already satisfied: torchvision in /Users/bveeramani/GitHub/ray/.venv/lib/python3.9/site-packages (0.13.0)\n",
      "Requirement already satisfied: charset-normalizer<3,>=2 in /Users/bveeramani/GitHub/ray/.venv/lib/python3.9/site-packages (from requests) (2.1.0)\n",
      "Requirement already satisfied: idna<4,>=2.5 in /Users/bveeramani/GitHub/ray/.venv/lib/python3.9/site-packages (from requests) (3.3)\n",
      "Requirement already satisfied: urllib3<1.27,>=1.21.1 in /Users/bveeramani/GitHub/ray/.venv/lib/python3.9/site-packages (from requests) (1.26.11)\n",
      "Requirement already satisfied: certifi>=2017.4.17 in /Users/bveeramani/GitHub/ray/.venv/lib/python3.9/site-packages (from requests) (2022.6.15)\n",
      "Requirement already satisfied: typing-extensions in /Users/bveeramani/GitHub/ray/.venv/lib/python3.9/site-packages (from torch) (4.3.0)\n",
      "Requirement already satisfied: pillow!=8.3.*,>=5.3.0 in /Users/bveeramani/GitHub/ray/.venv/lib/python3.9/site-packages (from torchvision) (9.2.0)\n",
      "Requirement already satisfied: numpy in /Users/bveeramani/GitHub/ray/.venv/lib/python3.9/site-packages (from torchvision) (1.23.1)\n"
     ]
    }
   ],
   "source": [
    "!pip install requests torch torchvision"
   ]
  },
  {
   "cell_type": "markdown",
   "id": "f18ec14f",
   "metadata": {},
   "source": [
    "## Load and normalize CIFAR-10\n",
    "\n",
    "We'll train our classifier on a popular image dataset called [CIFAR-10](https://www.cs.toronto.edu/~kriz/cifar.html).\n",
    "\n",
    "First, let's load CIFAR-10 into a Ray Dataset."
   ]
  },
  {
   "cell_type": "code",
   "execution_count": 3,
   "id": "d3f2e890",
   "metadata": {},
   "outputs": [
    {
     "name": "stderr",
     "output_type": "stream",
     "text": [
      "2022-08-16 11:38:06,094\tINFO worker.py:1481 -- Started a local Ray instance. View the dashboard at \u001b[1m\u001b[32m127.0.0.1:8266\u001b[39m\u001b[22m.\n",
      "2022-08-16 11:38:07,165\tWARNING read_api.py:291 -- ⚠️  The number of blocks in this dataset (1) limits its parallelism to 1 concurrent tasks. This is much less than the number of available CPU slots in the cluster. Use `.repartition(n)` to increase the number of dataset blocks.\n",
      "\u001b[2m\u001b[36m(_get_read_tasks pid=4456)\u001b[0m 2022-08-16 11:38:07,163\tWARNING torch_datasource.py:55 -- `SimpleTorchDatasource` doesn't support parallel reads. The `parallelism` argument will be ignored.\n"
     ]
    },
    {
     "name": "stdout",
     "output_type": "stream",
     "text": [
      "\u001b[2m\u001b[36m(_execute_read_task pid=4456)\u001b[0m Files already downloaded and verified\n"
     ]
    },
    {
     "name": "stderr",
     "output_type": "stream",
     "text": [
      "2022-08-16 11:38:12,888\tWARNING read_api.py:291 -- ⚠️  The number of blocks in this dataset (1) limits its parallelism to 1 concurrent tasks. This is much less than the number of available CPU slots in the cluster. Use `.repartition(n)` to increase the number of dataset blocks.\n",
      "\u001b[2m\u001b[36m(_get_read_tasks pid=4456)\u001b[0m 2022-08-16 11:38:12,886\tWARNING torch_datasource.py:55 -- `SimpleTorchDatasource` doesn't support parallel reads. The `parallelism` argument will be ignored.\n"
     ]
    },
    {
     "name": "stdout",
     "output_type": "stream",
     "text": [
      "\u001b[2m\u001b[36m(_execute_read_task pid=4456)\u001b[0m Files already downloaded and verified\n"
     ]
    }
   ],
   "source": [
    "import ray\n",
    "from ray.data.datasource import SimpleTorchDatasource\n",
    "import torchvision\n",
    "import torchvision.transforms as transforms\n",
    "\n",
    "transform = transforms.Compose(\n",
    "    [transforms.ToTensor(), transforms.Normalize((0.5, 0.5, 0.5), (0.5, 0.5, 0.5))]\n",
    ")\n",
    "\n",
    "\n",
    "def train_dataset_factory():\n",
    "    return torchvision.datasets.CIFAR10(\n",
    "        root=\"./data\", download=True, train=True, transform=transform\n",
    "    )\n",
    "\n",
    "\n",
    "def test_dataset_factory():\n",
    "    return torchvision.datasets.CIFAR10(\n",
    "        root=\"./data\", download=True, train=False, transform=transform\n",
    "    )\n",
    "\n",
    "\n",
    "train_dataset: ray.data.Dataset = ray.data.read_datasource(\n",
    "    SimpleTorchDatasource(), dataset_factory=train_dataset_factory\n",
    ")\n",
    "test_dataset: ray.data.Dataset = ray.data.read_datasource(\n",
    "    SimpleTorchDatasource(), dataset_factory=test_dataset_factory\n",
    ")"
   ]
  },
  {
   "cell_type": "code",
   "execution_count": 4,
   "id": "a2e7db56",
   "metadata": {},
   "outputs": [
    {
     "data": {
      "text/plain": [
       "Dataset(num_blocks=1, num_rows=50000, schema=<class 'tuple'>)"
      ]
     },
     "execution_count": 4,
     "metadata": {},
     "output_type": "execute_result"
    }
   ],
   "source": [
    "train_dataset"
   ]
  },
  {
   "cell_type": "markdown",
   "id": "a89b59e8",
   "metadata": {},
   "source": [
    "Note that {py:class}`SimpleTorchDatasource <ray.data.datasource.SimpleTorchDatasource>` loads all data into memory, so you shouldn't use it with larger datasets.\n",
    "\n",
    "Next, let's represent our data using pandas dataframes instead of tuples. This lets us call methods like {py:meth}`Dataset.iter_torch_batches <ray.data.Dataset.iter_torch_batches>` later in the tutorial."
   ]
  },
  {
   "cell_type": "code",
   "execution_count": 5,
   "id": "9c485ff8",
   "metadata": {},
   "outputs": [
    {
     "name": "stderr",
     "output_type": "stream",
     "text": [
      "Read->Map_Batches:   0%|          | 0/1 [00:00<?, ?it/s]"
     ]
    },
    {
     "name": "stdout",
     "output_type": "stream",
     "text": [
      "\u001b[2m\u001b[36m(_map_block_nosplit pid=4456)\u001b[0m Files already downloaded and verified\n"
     ]
    },
    {
     "name": "stderr",
     "output_type": "stream",
     "text": [
      "Read->Map_Batches: 100%|██████████| 1/1 [00:04<00:00,  4.19s/it]\n",
      "Read->Map_Batches:   0%|          | 0/1 [00:00<?, ?it/s]"
     ]
    },
    {
     "name": "stdout",
     "output_type": "stream",
     "text": [
      "\u001b[2m\u001b[36m(_map_block_nosplit pid=4456)\u001b[0m Files already downloaded and verified\n"
     ]
    },
    {
     "name": "stderr",
     "output_type": "stream",
     "text": [
      "Read->Map_Batches: 100%|██████████| 1/1 [00:01<00:00,  1.44s/it]\n"
     ]
    }
   ],
   "source": [
    "from typing import Tuple\n",
    "\n",
    "import pandas as pd\n",
    "import torch\n",
    "\n",
    "\n",
    "def convert_batch_to_pandas(batch: Tuple[torch.Tensor, int]) -> pd.DataFrame:\n",
    "    images = [image.numpy() for image, _ in batch]\n",
    "    labels = [label for _, label in batch]\n",
    "    return pd.DataFrame({\"image\": images, \"label\": labels})\n",
    "\n",
    "\n",
    "train_dataset = train_dataset.map_batches(convert_batch_to_pandas)\n",
    "test_dataset = test_dataset.map_batches(convert_batch_to_pandas)"
   ]
  },
  {
   "cell_type": "code",
   "execution_count": 6,
   "id": "4b416bbb",
   "metadata": {},
   "outputs": [
    {
     "data": {
      "text/plain": [
       "Dataset(num_blocks=1, num_rows=50000, schema={image: TensorDtype(shape=(3, 32, 32), dtype=float32), label: int64})"
      ]
     },
     "execution_count": 6,
     "metadata": {},
     "output_type": "execute_result"
    }
   ],
   "source": [
    "train_dataset"
   ]
  },
  {
   "cell_type": "markdown",
   "id": "a2cc4086",
   "metadata": {},
   "source": [
    "## Train a convolutional neural network\n",
    "\n",
    "Now that we've created our datasets, let's define the training logic."
   ]
  },
  {
   "cell_type": "code",
   "execution_count": 7,
   "id": "ba8b129c",
   "metadata": {},
   "outputs": [],
   "source": [
    "import torch\n",
    "import torch.nn as nn\n",
    "import torch.nn.functional as F\n",
    "\n",
    "\n",
    "class Net(nn.Module):\n",
    "    def __init__(self):\n",
    "        super().__init__()\n",
    "        self.conv1 = nn.Conv2d(3, 6, 5)\n",
    "        self.pool = nn.MaxPool2d(2, 2)\n",
    "        self.conv2 = nn.Conv2d(6, 16, 5)\n",
    "        self.fc1 = nn.Linear(16 * 5 * 5, 120)\n",
    "        self.fc2 = nn.Linear(120, 84)\n",
    "        self.fc3 = nn.Linear(84, 10)\n",
    "\n",
    "    def forward(self, x):\n",
    "        x = self.pool(F.relu(self.conv1(x)))\n",
    "        x = self.pool(F.relu(self.conv2(x)))\n",
    "        x = torch.flatten(x, 1)  # flatten all dimensions except batch\n",
    "        x = F.relu(self.fc1(x))\n",
    "        x = F.relu(self.fc2(x))\n",
    "        x = self.fc3(x)\n",
    "        return x"
   ]
  },
  {
   "cell_type": "markdown",
   "id": "f9d85c9d",
   "metadata": {},
   "source": [
    "We define our training logic in a function called `train_loop_per_worker`.\n",
    "\n",
    "`train_loop_per_worker` contains regular PyTorch code with a few notable exceptions:\n",
    "* We wrap our model with {py:func}`train.torch.prepare_model <ray.train.torch.prepare_model>`.\n",
    "* We call {py:func}`session.get_dataset_shard <ray.air.session.get_dataset_shard>` and {py:meth}`Dataset.iter_torch_batches <ray.data.Dataset.iter_torch_batches>` to convert a subset of our training data to a Torch dataset.\n",
    "* We save model state using {py:func}`session.report <ray.air.session.report>`."
   ]
  },
  {
   "cell_type": "code",
   "execution_count": 13,
   "id": "6d32d183",
   "metadata": {},
   "outputs": [],
   "source": [
    "from typing import Dict\n",
    "\n",
    "from ray import train\n",
    "from ray.air import session\n",
    "from ray.train.torch import TorchCheckpoint\n",
    "import torch.optim as optim\n",
    "\n",
    "\n",
    "def train_loop_per_worker(config):\n",
    "    model = train.torch.prepare_model(Net())\n",
    "\n",
    "    criterion = nn.CrossEntropyLoss()\n",
    "    optimizer = optim.SGD(model.parameters(), lr=0.001, momentum=0.9)\n",
    "\n",
    "    train_dataset_shard: ray.data.Dataset = session.get_dataset_shard(\"train\")\n",
    "    train_dataset_batches: Dict[\n",
    "        str, torch.Tensor\n",
    "    ] = train_dataset_shard.iter_torch_batches(\n",
    "        batch_size=config[\"batch_size\"],\n",
    "    )\n",
    "\n",
    "    for epoch in range(1):\n",
    "        running_loss = 0.0\n",
    "        for i, batch in enumerate(train_dataset_batches):\n",
    "            # get the inputs and labels\n",
<<<<<<< Updated upstream
    "            inputs, labels = data[\"image\"], data[\"label\"]\n",
=======
    "            inputs, labels = batch[\"image\"], batch[\"label\"]\n",
>>>>>>> Stashed changes
    "\n",
    "            # zero the parameter gradients\n",
    "            optimizer.zero_grad()\n",
    "\n",
    "            # forward + backward + optimize\n",
    "            outputs = model(inputs)\n",
    "            loss = criterion(outputs, labels)\n",
    "            loss.backward()\n",
    "            optimizer.step()\n",
    "\n",
    "            # print statistics\n",
    "            running_loss += loss.item()\n",
    "            if i % 2000 == 1999:  # print every 2000 mini-batches\n",
    "                print(f\"[{epoch + 1}, {i + 1:5d}] loss: {running_loss / 2000:.3f}\")\n",
    "                running_loss = 0.0\n",
    "\n",
    "        metrics = {\"running_loss\": running_loss}\n",
    "        checkpoint = TorchCheckpoint.from_model(model)\n",
    "        session.report(metrics, checkpoint=checkpoint)"
   ]
  },
  {
   "cell_type": "markdown",
   "id": "58100f87",
   "metadata": {},
   "source": [
    "Finally, we can train our model. This should take a few minutes to run."
   ]
  },
  {
   "cell_type": "code",
   "execution_count": 16,
   "id": "89a51244",
   "metadata": {},
   "outputs": [
    {
     "data": {
      "text/html": [
       "== Status ==<br>Current time: 2022-08-16 11:49:24 (running for 00:00:24.11)<br>Memory usage on this node: 13.9/32.0 GiB<br>Using FIFO scheduling algorithm.<br>Resources requested: 0/10 CPUs, 0/0 GPUs, 0.0/18.07 GiB heap, 0.0/2.0 GiB objects<br>Result logdir: /Users/bveeramani/ray_results/TorchTrainer_2022-08-16_11-49-00<br>Number of trials: 1/1 (1 ERROR)<br><table>\n",
       "<thead>\n",
       "<tr><th>Trial name              </th><th>status  </th><th>loc           </th></tr>\n",
       "</thead>\n",
       "<tbody>\n",
       "<tr><td>TorchTrainer_177ee_00000</td><td>ERROR   </td><td>127.0.0.1:4622</td></tr>\n",
       "</tbody>\n",
       "</table><br>Number of errored trials: 1<br><table>\n",
       "<thead>\n",
       "<tr><th>Trial name              </th><th style=\"text-align: right;\">  # failures</th><th>error file                                                                                                             </th></tr>\n",
       "</thead>\n",
       "<tbody>\n",
       "<tr><td>TorchTrainer_177ee_00000</td><td style=\"text-align: right;\">           1</td><td>/Users/bveeramani/ray_results/TorchTrainer_2022-08-16_11-49-00/TorchTrainer_177ee_00000_0_2022-08-16_11-49-00/error.txt</td></tr>\n",
       "</tbody>\n",
       "</table><br>"
      ],
      "text/plain": [
       "<IPython.core.display.HTML object>"
      ]
     },
     "metadata": {},
     "output_type": "display_data"
    },
    {
     "name": "stderr",
     "output_type": "stream",
     "text": [
      "\u001b[2m\u001b[36m(RayTrainWorker pid=4628)\u001b[0m 2022-08-16 11:49:02,799\tINFO config.py:71 -- Setting up process group for: env:// [rank=0, world_size=1]\n",
      "\u001b[2m\u001b[36m(RayTrainWorker pid=4628)\u001b[0m 2022-08-16 11:49:02,817\tINFO train_loop_utils.py:300 -- Moving model to device: cpu\n",
      "\u001b[2m\u001b[36m(RayTrainWorker pid=4628)\u001b[0m /Users/bveeramani/GitHub/ray/python/ray/air/_internal/torch_utils.py:122: UserWarning: The given NumPy array is not writable, and PyTorch does not support non-writable tensors. This means writing to this tensor will result in undefined behavior. You may want to copy the array to protect its data or make it writable before converting it to a tensor. This type of warning will be suppressed for the rest of this program. (Triggered internally at  /Users/runner/work/pytorch/pytorch/pytorch/torch/csrc/utils/tensor_numpy.cpp:178.)\n",
      "\u001b[2m\u001b[36m(RayTrainWorker pid=4628)\u001b[0m   return torch.as_tensor(ndarray, dtype=dtype, device=device)\n"
     ]
    },
    {
     "name": "stdout",
     "output_type": "stream",
     "text": [
      "\u001b[2m\u001b[36m(RayTrainWorker pid=4628)\u001b[0m [1,  2000] loss: 2.233\n",
      "\u001b[2m\u001b[36m(RayTrainWorker pid=4628)\u001b[0m [1,  4000] loss: 2.011\n",
      "\u001b[2m\u001b[36m(RayTrainWorker pid=4628)\u001b[0m [1,  6000] loss: 1.839\n",
      "\u001b[2m\u001b[36m(RayTrainWorker pid=4628)\u001b[0m [1,  8000] loss: 1.717\n",
      "\u001b[2m\u001b[36m(RayTrainWorker pid=4628)\u001b[0m [1, 10000] loss: 1.643\n",
      "\u001b[2m\u001b[36m(RayTrainWorker pid=4628)\u001b[0m [1, 12000] loss: 1.577\n",
      "\u001b[2m\u001b[36m(RayTrainWorker pid=4628)\u001b[0m [1, 14000] loss: 1.529\n",
      "\u001b[2m\u001b[36m(RayTrainWorker pid=4628)\u001b[0m [1, 16000] loss: 1.499\n",
      "\u001b[2m\u001b[36m(RayTrainWorker pid=4628)\u001b[0m [1, 18000] loss: 1.541\n",
      "\u001b[2m\u001b[36m(RayTrainWorker pid=4628)\u001b[0m [1, 20000] loss: 1.473\n",
      "\u001b[2m\u001b[36m(RayTrainWorker pid=4628)\u001b[0m [1, 22000] loss: 1.470\n",
      "\u001b[2m\u001b[36m(RayTrainWorker pid=4628)\u001b[0m [1, 24000] loss: 1.444\n"
     ]
    },
    {
     "name": "stderr",
     "output_type": "stream",
     "text": [
      "\u001b[2m\u001b[36m(TorchTrainer pid=4622)\u001b[0m 2022-08-16 11:49:24,385\tERROR function_trainable.py:298 -- Runner Thread raised error.\n",
      "\u001b[2m\u001b[36m(TorchTrainer pid=4622)\u001b[0m Traceback (most recent call last):\n",
      "\u001b[2m\u001b[36m(TorchTrainer pid=4622)\u001b[0m   File \"/Users/bveeramani/GitHub/ray/python/ray/tune/trainable/function_trainable.py\", line 289, in run\n",
      "\u001b[2m\u001b[36m(TorchTrainer pid=4622)\u001b[0m     self._entrypoint()\n",
      "\u001b[2m\u001b[36m(TorchTrainer pid=4622)\u001b[0m   File \"/Users/bveeramani/GitHub/ray/python/ray/tune/trainable/function_trainable.py\", line 362, in entrypoint\n",
      "\u001b[2m\u001b[36m(TorchTrainer pid=4622)\u001b[0m     return self._trainable_func(\n",
      "\u001b[2m\u001b[36m(TorchTrainer pid=4622)\u001b[0m   File \"/Users/bveeramani/GitHub/ray/python/ray/util/tracing/tracing_helper.py\", line 466, in _resume_span\n",
      "\u001b[2m\u001b[36m(TorchTrainer pid=4622)\u001b[0m     return method(self, *_args, **_kwargs)\n",
      "\u001b[2m\u001b[36m(TorchTrainer pid=4622)\u001b[0m   File \"/Users/bveeramani/GitHub/ray/python/ray/train/base_trainer.py\", line 460, in _trainable_func\n",
      "\u001b[2m\u001b[36m(TorchTrainer pid=4622)\u001b[0m     super()._trainable_func(self._merged_config, reporter, checkpoint_dir)\n",
      "\u001b[2m\u001b[36m(TorchTrainer pid=4622)\u001b[0m   File \"/Users/bveeramani/GitHub/ray/python/ray/tune/trainable/function_trainable.py\", line 684, in _trainable_func\n",
      "\u001b[2m\u001b[36m(TorchTrainer pid=4622)\u001b[0m     output = fn()\n",
      "\u001b[2m\u001b[36m(TorchTrainer pid=4622)\u001b[0m   File \"/Users/bveeramani/GitHub/ray/python/ray/train/base_trainer.py\", line 375, in train_func\n",
      "\u001b[2m\u001b[36m(TorchTrainer pid=4622)\u001b[0m     trainer.training_loop()\n",
      "\u001b[2m\u001b[36m(TorchTrainer pid=4622)\u001b[0m   File \"/Users/bveeramani/GitHub/ray/python/ray/train/data_parallel_trainer.py\", line 358, in training_loop\n",
      "\u001b[2m\u001b[36m(TorchTrainer pid=4622)\u001b[0m     for results in training_iterator:\n",
      "\u001b[2m\u001b[36m(TorchTrainer pid=4622)\u001b[0m   File \"/Users/bveeramani/GitHub/ray/python/ray/train/trainer.py\", line 761, in __next__\n",
      "\u001b[2m\u001b[36m(TorchTrainer pid=4622)\u001b[0m     self._final_results = self._run_with_error_handling(\n",
      "\u001b[2m\u001b[36m(TorchTrainer pid=4622)\u001b[0m   File \"/Users/bveeramani/GitHub/ray/python/ray/train/trainer.py\", line 722, in _run_with_error_handling\n",
      "\u001b[2m\u001b[36m(TorchTrainer pid=4622)\u001b[0m     return func()\n",
      "\u001b[2m\u001b[36m(TorchTrainer pid=4622)\u001b[0m   File \"/Users/bveeramani/GitHub/ray/python/ray/train/trainer.py\", line 833, in _finish_training\n",
      "\u001b[2m\u001b[36m(TorchTrainer pid=4622)\u001b[0m     return self._backend_executor.finish_training()\n",
      "\u001b[2m\u001b[36m(TorchTrainer pid=4622)\u001b[0m   File \"/Users/bveeramani/GitHub/ray/python/ray/train/_internal/backend_executor.py\", line 458, in finish_training\n",
      "\u001b[2m\u001b[36m(TorchTrainer pid=4622)\u001b[0m     results = self.get_with_failure_handling(futures)\n",
      "\u001b[2m\u001b[36m(TorchTrainer pid=4622)\u001b[0m   File \"/Users/bveeramani/GitHub/ray/python/ray/train/_internal/backend_executor.py\", line 477, in get_with_failure_handling\n",
      "\u001b[2m\u001b[36m(TorchTrainer pid=4622)\u001b[0m     success = check_for_failure(remote_values)\n",
      "\u001b[2m\u001b[36m(TorchTrainer pid=4622)\u001b[0m   File \"/Users/bveeramani/GitHub/ray/python/ray/train/_internal/utils.py\", line 52, in check_for_failure\n",
      "\u001b[2m\u001b[36m(TorchTrainer pid=4622)\u001b[0m     ray.get(object_ref)\n",
      "\u001b[2m\u001b[36m(TorchTrainer pid=4622)\u001b[0m   File \"/Users/bveeramani/GitHub/ray/python/ray/_private/client_mode_hook.py\", line 105, in wrapper\n",
      "\u001b[2m\u001b[36m(TorchTrainer pid=4622)\u001b[0m     return func(*args, **kwargs)\n",
      "\u001b[2m\u001b[36m(TorchTrainer pid=4622)\u001b[0m   File \"/Users/bveeramani/GitHub/ray/python/ray/_private/worker.py\", line 2245, in get\n",
      "\u001b[2m\u001b[36m(TorchTrainer pid=4622)\u001b[0m     raise value.as_instanceof_cause()\n",
      "\u001b[2m\u001b[36m(TorchTrainer pid=4622)\u001b[0m ray.exceptions.RayTaskError(PicklingError): \u001b[36mray::RayTrainWorker._RayTrainWorker__execute()\u001b[39m (pid=4628, ip=127.0.0.1, repr=<ray.train._internal.worker_group.RayTrainWorker object at 0x10a6221f0>)\n",
      "\u001b[2m\u001b[36m(TorchTrainer pid=4622)\u001b[0m   File \"/Users/bveeramani/GitHub/ray/python/ray/train/_internal/worker_group.py\", line 26, in __execute\n",
      "\u001b[2m\u001b[36m(TorchTrainer pid=4622)\u001b[0m     return func(*args, **kwargs)\n",
      "\u001b[2m\u001b[36m(TorchTrainer pid=4622)\u001b[0m   File \"/Users/bveeramani/GitHub/ray/python/ray/train/_internal/backend_executor.py\", line 449, in end_training\n",
      "\u001b[2m\u001b[36m(TorchTrainer pid=4622)\u001b[0m     output = session.finish()\n",
      "\u001b[2m\u001b[36m(TorchTrainer pid=4622)\u001b[0m   File \"/Users/bveeramani/GitHub/ray/python/ray/train/_internal/session.py\", line 140, in finish\n",
      "\u001b[2m\u001b[36m(TorchTrainer pid=4622)\u001b[0m     func_output = self.training_thread.join()\n",
      "\u001b[2m\u001b[36m(TorchTrainer pid=4622)\u001b[0m   File \"/Users/bveeramani/GitHub/ray/python/ray/train/_internal/utils.py\", line 98, in join\n",
      "\u001b[2m\u001b[36m(TorchTrainer pid=4622)\u001b[0m     raise self.exc\n",
      "\u001b[2m\u001b[36m(TorchTrainer pid=4622)\u001b[0m   File \"/Users/bveeramani/GitHub/ray/python/ray/train/_internal/utils.py\", line 91, in run\n",
      "\u001b[2m\u001b[36m(TorchTrainer pid=4622)\u001b[0m     self.ret = self._target(*self._args, **self._kwargs)\n",
      "\u001b[2m\u001b[36m(TorchTrainer pid=4622)\u001b[0m   File \"/Users/bveeramani/GitHub/ray/python/ray/train/_internal/utils.py\", line 155, in <lambda>\n",
      "\u001b[2m\u001b[36m(TorchTrainer pid=4622)\u001b[0m     return lambda: wrapped_train_func(config)\n",
      "\u001b[2m\u001b[36m(TorchTrainer pid=4622)\u001b[0m   File \"/Users/bveeramani/GitHub/ray/python/ray/train/_internal/utils.py\", line 141, in discard_return_wrapper\n",
      "\u001b[2m\u001b[36m(TorchTrainer pid=4622)\u001b[0m     train_func(*args, **kwargs)\n",
      "\u001b[2m\u001b[36m(TorchTrainer pid=4622)\u001b[0m   File \"/var/folders/j8/553rq3812fv573lghv2m98n80000gn/T/ipykernel_4418/2696409936.py\", line 43, in train_loop_per_worker\n",
      "\u001b[2m\u001b[36m(TorchTrainer pid=4622)\u001b[0m   File \"/Users/bveeramani/GitHub/ray/python/ray/air/session.py\", line 61, in report\n",
      "\u001b[2m\u001b[36m(TorchTrainer pid=4622)\u001b[0m     _get_session().report(metrics, checkpoint=checkpoint)\n",
      "\u001b[2m\u001b[36m(TorchTrainer pid=4622)\u001b[0m   File \"/Users/bveeramani/GitHub/ray/python/ray/train/session.py\", line 26, in report\n",
      "\u001b[2m\u001b[36m(TorchTrainer pid=4622)\u001b[0m     self._session.report(metrics, checkpoint)\n",
      "\u001b[2m\u001b[36m(TorchTrainer pid=4622)\u001b[0m   File \"/Users/bveeramani/GitHub/ray/python/ray/train/_internal/session.py\", line 265, in report\n",
      "\u001b[2m\u001b[36m(TorchTrainer pid=4622)\u001b[0m     self.checkpoint(**checkpoint_dict)\n",
      "\u001b[2m\u001b[36m(TorchTrainer pid=4622)\u001b[0m   File \"/Users/bveeramani/GitHub/ray/python/ray/train/_internal/session.py\", line 251, in checkpoint\n",
      "\u001b[2m\u001b[36m(TorchTrainer pid=4622)\u001b[0m     kwargs = self._encode_data_fn(self._auto_fill_checkpoint_metrics(kwargs))\n",
      "\u001b[2m\u001b[36m(TorchTrainer pid=4622)\u001b[0m   File \"/Users/bveeramani/GitHub/ray/python/ray/train/torch/config.py\", line 178, in encode_data\n",
      "\u001b[2m\u001b[36m(TorchTrainer pid=4622)\u001b[0m     torch.save(data_dict, _buffer)\n",
      "\u001b[2m\u001b[36m(TorchTrainer pid=4622)\u001b[0m   File \"/Users/bveeramani/GitHub/ray/.venv/lib/python3.9/site-packages/torch/serialization.py\", line 379, in save\n",
      "\u001b[2m\u001b[36m(TorchTrainer pid=4622)\u001b[0m     _save(obj, opened_zipfile, pickle_module, pickle_protocol)\n",
      "\u001b[2m\u001b[36m(TorchTrainer pid=4622)\u001b[0m   File \"/Users/bveeramani/GitHub/ray/.venv/lib/python3.9/site-packages/torch/serialization.py\", line 589, in _save\n",
      "\u001b[2m\u001b[36m(TorchTrainer pid=4622)\u001b[0m     pickler.dump(obj)\n",
      "\u001b[2m\u001b[36m(TorchTrainer pid=4622)\u001b[0m _pickle.PicklingError: Can't pickle <class '__main__.Net'>: attribute lookup Net on __main__ failed\n",
      "\u001b[2m\u001b[36m(RayTrainWorker pid=4628)\u001b[0m 2022-08-16 11:49:24,383\tINFO worker.py:754 -- Task failed with unretryable exception: TaskID(03f99e014b08995277cad808158e67643276da7f01000000).\n",
      "\u001b[2m\u001b[36m(RayTrainWorker pid=4628)\u001b[0m Traceback (most recent call last):\n",
      "\u001b[2m\u001b[36m(RayTrainWorker pid=4628)\u001b[0m   File \"python/ray/_raylet.pyx\", line 709, in ray._raylet.execute_task\n",
      "\u001b[2m\u001b[36m(RayTrainWorker pid=4628)\u001b[0m   File \"python/ray/_raylet.pyx\", line 713, in ray._raylet.execute_task\n",
      "\u001b[2m\u001b[36m(RayTrainWorker pid=4628)\u001b[0m   File \"python/ray/_raylet.pyx\", line 660, in ray._raylet.execute_task.function_executor\n",
      "\u001b[2m\u001b[36m(RayTrainWorker pid=4628)\u001b[0m   File \"/Users/bveeramani/GitHub/ray/python/ray/_private/function_manager.py\", line 674, in actor_method_executor\n",
      "\u001b[2m\u001b[36m(RayTrainWorker pid=4628)\u001b[0m     return method(__ray_actor, *args, **kwargs)\n",
      "\u001b[2m\u001b[36m(RayTrainWorker pid=4628)\u001b[0m   File \"/Users/bveeramani/GitHub/ray/python/ray/util/tracing/tracing_helper.py\", line 466, in _resume_span\n",
      "\u001b[2m\u001b[36m(RayTrainWorker pid=4628)\u001b[0m     return method(self, *_args, **_kwargs)\n",
      "\u001b[2m\u001b[36m(RayTrainWorker pid=4628)\u001b[0m   File \"/Users/bveeramani/GitHub/ray/python/ray/train/_internal/worker_group.py\", line 26, in __execute\n",
      "\u001b[2m\u001b[36m(RayTrainWorker pid=4628)\u001b[0m     return func(*args, **kwargs)\n",
      "\u001b[2m\u001b[36m(RayTrainWorker pid=4628)\u001b[0m   File \"/Users/bveeramani/GitHub/ray/python/ray/train/_internal/backend_executor.py\", line 449, in end_training\n",
      "\u001b[2m\u001b[36m(RayTrainWorker pid=4628)\u001b[0m     output = session.finish()\n",
      "\u001b[2m\u001b[36m(RayTrainWorker pid=4628)\u001b[0m   File \"/Users/bveeramani/GitHub/ray/python/ray/train/_internal/session.py\", line 140, in finish\n",
      "\u001b[2m\u001b[36m(RayTrainWorker pid=4628)\u001b[0m     func_output = self.training_thread.join()\n",
      "\u001b[2m\u001b[36m(RayTrainWorker pid=4628)\u001b[0m   File \"/Users/bveeramani/GitHub/ray/python/ray/train/_internal/utils.py\", line 98, in join\n",
      "\u001b[2m\u001b[36m(RayTrainWorker pid=4628)\u001b[0m     raise self.exc\n",
      "\u001b[2m\u001b[36m(RayTrainWorker pid=4628)\u001b[0m   File \"/Users/bveeramani/GitHub/ray/python/ray/train/_internal/utils.py\", line 91, in run\n",
      "\u001b[2m\u001b[36m(RayTrainWorker pid=4628)\u001b[0m     self.ret = self._target(*self._args, **self._kwargs)\n",
      "\u001b[2m\u001b[36m(RayTrainWorker pid=4628)\u001b[0m   File \"/Users/bveeramani/GitHub/ray/python/ray/train/_internal/utils.py\", line 155, in <lambda>\n",
      "\u001b[2m\u001b[36m(RayTrainWorker pid=4628)\u001b[0m     return lambda: wrapped_train_func(config)\n",
      "\u001b[2m\u001b[36m(RayTrainWorker pid=4628)\u001b[0m   File \"/Users/bveeramani/GitHub/ray/python/ray/train/_internal/utils.py\", line 141, in discard_return_wrapper\n",
      "\u001b[2m\u001b[36m(RayTrainWorker pid=4628)\u001b[0m     train_func(*args, **kwargs)\n",
      "\u001b[2m\u001b[36m(RayTrainWorker pid=4628)\u001b[0m   File \"/var/folders/j8/553rq3812fv573lghv2m98n80000gn/T/ipykernel_4418/2696409936.py\", line 43, in train_loop_per_worker\n",
      "\u001b[2m\u001b[36m(RayTrainWorker pid=4628)\u001b[0m   File \"/Users/bveeramani/GitHub/ray/python/ray/air/session.py\", line 61, in report\n",
      "\u001b[2m\u001b[36m(RayTrainWorker pid=4628)\u001b[0m     _get_session().report(metrics, checkpoint=checkpoint)\n",
      "\u001b[2m\u001b[36m(RayTrainWorker pid=4628)\u001b[0m   File \"/Users/bveeramani/GitHub/ray/python/ray/train/session.py\", line 26, in report\n",
      "\u001b[2m\u001b[36m(RayTrainWorker pid=4628)\u001b[0m     self._session.report(metrics, checkpoint)\n",
      "\u001b[2m\u001b[36m(RayTrainWorker pid=4628)\u001b[0m   File \"/Users/bveeramani/GitHub/ray/python/ray/train/_internal/session.py\", line 265, in report\n",
      "\u001b[2m\u001b[36m(RayTrainWorker pid=4628)\u001b[0m     self.checkpoint(**checkpoint_dict)\n",
      "\u001b[2m\u001b[36m(RayTrainWorker pid=4628)\u001b[0m   File \"/Users/bveeramani/GitHub/ray/python/ray/train/_internal/session.py\", line 251, in checkpoint\n",
      "\u001b[2m\u001b[36m(RayTrainWorker pid=4628)\u001b[0m     kwargs = self._encode_data_fn(self._auto_fill_checkpoint_metrics(kwargs))\n",
      "\u001b[2m\u001b[36m(RayTrainWorker pid=4628)\u001b[0m   File \"/Users/bveeramani/GitHub/ray/python/ray/train/torch/config.py\", line 178, in encode_data\n",
      "\u001b[2m\u001b[36m(RayTrainWorker pid=4628)\u001b[0m     torch.save(data_dict, _buffer)\n",
      "\u001b[2m\u001b[36m(RayTrainWorker pid=4628)\u001b[0m   File \"/Users/bveeramani/GitHub/ray/.venv/lib/python3.9/site-packages/torch/serialization.py\", line 379, in save\n",
      "\u001b[2m\u001b[36m(RayTrainWorker pid=4628)\u001b[0m     _save(obj, opened_zipfile, pickle_module, pickle_protocol)\n",
      "\u001b[2m\u001b[36m(RayTrainWorker pid=4628)\u001b[0m   File \"/Users/bveeramani/GitHub/ray/.venv/lib/python3.9/site-packages/torch/serialization.py\", line 589, in _save\n",
      "\u001b[2m\u001b[36m(RayTrainWorker pid=4628)\u001b[0m     pickler.dump(obj)\n",
      "\u001b[2m\u001b[36m(RayTrainWorker pid=4628)\u001b[0m _pickle.PicklingError: Can't pickle <class '__main__.Net'>: attribute lookup Net on __main__ failed\n",
      "2022-08-16 11:49:24,591\tERROR trial_runner.py:980 -- Trial TorchTrainer_177ee_00000: Error processing event.\n",
      "ray.exceptions.RayTaskError(PicklingError): \u001b[36mray::TrainTrainable.train()\u001b[39m (pid=4622, ip=127.0.0.1, repr=TorchTrainer)\n",
      "  File \"/Users/bveeramani/GitHub/ray/python/ray/tune/trainable/trainable.py\", line 347, in train\n",
      "    result = self.step()\n",
      "  File \"/Users/bveeramani/GitHub/ray/python/ray/tune/trainable/function_trainable.py\", line 417, in step\n",
      "    self._report_thread_runner_error(block=True)\n",
      "  File \"/Users/bveeramani/GitHub/ray/python/ray/tune/trainable/function_trainable.py\", line 589, in _report_thread_runner_error\n",
      "    raise e\n",
      "  File \"/Users/bveeramani/GitHub/ray/python/ray/tune/trainable/function_trainable.py\", line 289, in run\n",
      "    self._entrypoint()\n",
      "  File \"/Users/bveeramani/GitHub/ray/python/ray/tune/trainable/function_trainable.py\", line 362, in entrypoint\n",
      "    return self._trainable_func(\n",
      "  File \"/Users/bveeramani/GitHub/ray/python/ray/train/base_trainer.py\", line 460, in _trainable_func\n",
      "    super()._trainable_func(self._merged_config, reporter, checkpoint_dir)\n",
      "  File \"/Users/bveeramani/GitHub/ray/python/ray/tune/trainable/function_trainable.py\", line 684, in _trainable_func\n",
      "    output = fn()\n",
      "  File \"/Users/bveeramani/GitHub/ray/python/ray/train/base_trainer.py\", line 375, in train_func\n",
      "    trainer.training_loop()\n",
      "  File \"/Users/bveeramani/GitHub/ray/python/ray/train/data_parallel_trainer.py\", line 358, in training_loop\n",
      "    for results in training_iterator:\n",
      "  File \"/Users/bveeramani/GitHub/ray/python/ray/train/trainer.py\", line 761, in __next__\n",
      "    self._final_results = self._run_with_error_handling(\n",
      "  File \"/Users/bveeramani/GitHub/ray/python/ray/train/trainer.py\", line 722, in _run_with_error_handling\n",
      "    return func()\n",
      "  File \"/Users/bveeramani/GitHub/ray/python/ray/train/trainer.py\", line 833, in _finish_training\n",
      "    return self._backend_executor.finish_training()\n",
      "  File \"/Users/bveeramani/GitHub/ray/python/ray/train/_internal/backend_executor.py\", line 458, in finish_training\n",
      "    results = self.get_with_failure_handling(futures)\n",
      "  File \"/Users/bveeramani/GitHub/ray/python/ray/train/_internal/backend_executor.py\", line 477, in get_with_failure_handling\n",
      "    success = check_for_failure(remote_values)\n",
      "  File \"/Users/bveeramani/GitHub/ray/python/ray/train/_internal/utils.py\", line 52, in check_for_failure\n",
      "    ray.get(object_ref)\n",
      "ray.exceptions.RayTaskError(PicklingError): \u001b[36mray::RayTrainWorker._RayTrainWorker__execute()\u001b[39m (pid=4628, ip=127.0.0.1, repr=<ray.train._internal.worker_group.RayTrainWorker object at 0x10a6221f0>)\n",
      "  File \"/Users/bveeramani/GitHub/ray/python/ray/train/_internal/worker_group.py\", line 26, in __execute\n",
      "    return func(*args, **kwargs)\n",
      "  File \"/Users/bveeramani/GitHub/ray/python/ray/train/_internal/backend_executor.py\", line 449, in end_training\n",
      "    output = session.finish()\n",
      "  File \"/Users/bveeramani/GitHub/ray/python/ray/train/_internal/session.py\", line 140, in finish\n",
      "    func_output = self.training_thread.join()\n",
      "  File \"/Users/bveeramani/GitHub/ray/python/ray/train/_internal/utils.py\", line 98, in join\n",
      "    raise self.exc\n",
      "  File \"/Users/bveeramani/GitHub/ray/python/ray/train/_internal/utils.py\", line 91, in run\n",
      "    self.ret = self._target(*self._args, **self._kwargs)\n",
      "  File \"/Users/bveeramani/GitHub/ray/python/ray/train/_internal/utils.py\", line 155, in <lambda>\n",
      "    return lambda: wrapped_train_func(config)\n",
      "  File \"/Users/bveeramani/GitHub/ray/python/ray/train/_internal/utils.py\", line 141, in discard_return_wrapper\n",
      "    train_func(*args, **kwargs)\n",
      "  File \"/var/folders/j8/553rq3812fv573lghv2m98n80000gn/T/ipykernel_4418/2696409936.py\", line 43, in train_loop_per_worker\n",
      "  File \"/Users/bveeramani/GitHub/ray/python/ray/air/session.py\", line 61, in report\n",
      "    _get_session().report(metrics, checkpoint=checkpoint)\n",
      "  File \"/Users/bveeramani/GitHub/ray/python/ray/train/session.py\", line 26, in report\n",
      "    self._session.report(metrics, checkpoint)\n",
      "  File \"/Users/bveeramani/GitHub/ray/python/ray/train/_internal/session.py\", line 265, in report\n",
      "    self.checkpoint(**checkpoint_dict)\n",
      "  File \"/Users/bveeramani/GitHub/ray/python/ray/train/_internal/session.py\", line 251, in checkpoint\n",
      "    kwargs = self._encode_data_fn(self._auto_fill_checkpoint_metrics(kwargs))\n",
      "  File \"/Users/bveeramani/GitHub/ray/python/ray/train/torch/config.py\", line 178, in encode_data\n",
      "    torch.save(data_dict, _buffer)\n",
      "  File \"/Users/bveeramani/GitHub/ray/.venv/lib/python3.9/site-packages/torch/serialization.py\", line 379, in save\n",
      "    _save(obj, opened_zipfile, pickle_module, pickle_protocol)\n",
      "  File \"/Users/bveeramani/GitHub/ray/.venv/lib/python3.9/site-packages/torch/serialization.py\", line 589, in _save\n",
      "    pickler.dump(obj)\n",
      "_pickle.PicklingError: Can't pickle <class '__main__.Net'>: attribute lookup Net on __main__ failed\n"
     ]
    },
    {
     "name": "stdout",
     "output_type": "stream",
     "text": [
      "Result for TorchTrainer_177ee_00000:\n",
      "  date: 2022-08-16_11-49-01\n",
      "  experiment_id: ddeeadd531214092babe27eb7c030863\n",
      "  hostname: Balajis-MBP.local.meter\n",
      "  node_ip: 127.0.0.1\n",
      "  pid: 4622\n",
      "  timestamp: 1660675741\n",
      "  trial_id: 177ee_00000\n",
      "  \n"
     ]
    },
    {
     "name": "stderr",
     "output_type": "stream",
     "text": [
      "\u001b[2m\u001b[36m(TorchTrainer pid=4622)\u001b[0m 2022-08-16 11:49:24,585\tINFO worker.py:754 -- Task failed with unretryable exception: TaskID(a6d6d59239756144a3f7061d42683fad521a945e01000000).\n",
      "\u001b[2m\u001b[36m(TorchTrainer pid=4622)\u001b[0m Traceback (most recent call last):\n",
      "\u001b[2m\u001b[36m(TorchTrainer pid=4622)\u001b[0m   File \"python/ray/_raylet.pyx\", line 709, in ray._raylet.execute_task\n",
      "\u001b[2m\u001b[36m(TorchTrainer pid=4622)\u001b[0m   File \"python/ray/_raylet.pyx\", line 713, in ray._raylet.execute_task\n",
      "\u001b[2m\u001b[36m(TorchTrainer pid=4622)\u001b[0m   File \"python/ray/_raylet.pyx\", line 660, in ray._raylet.execute_task.function_executor\n",
      "\u001b[2m\u001b[36m(TorchTrainer pid=4622)\u001b[0m   File \"/Users/bveeramani/GitHub/ray/python/ray/_private/function_manager.py\", line 674, in actor_method_executor\n",
      "\u001b[2m\u001b[36m(TorchTrainer pid=4622)\u001b[0m     return method(__ray_actor, *args, **kwargs)\n",
      "\u001b[2m\u001b[36m(TorchTrainer pid=4622)\u001b[0m   File \"/Users/bveeramani/GitHub/ray/python/ray/util/tracing/tracing_helper.py\", line 466, in _resume_span\n",
      "\u001b[2m\u001b[36m(TorchTrainer pid=4622)\u001b[0m     return method(self, *_args, **_kwargs)\n",
      "\u001b[2m\u001b[36m(TorchTrainer pid=4622)\u001b[0m   File \"/Users/bveeramani/GitHub/ray/python/ray/tune/trainable/trainable.py\", line 347, in train\n",
      "\u001b[2m\u001b[36m(TorchTrainer pid=4622)\u001b[0m     result = self.step()\n",
      "\u001b[2m\u001b[36m(TorchTrainer pid=4622)\u001b[0m   File \"/Users/bveeramani/GitHub/ray/python/ray/util/tracing/tracing_helper.py\", line 466, in _resume_span\n",
      "\u001b[2m\u001b[36m(TorchTrainer pid=4622)\u001b[0m     return method(self, *_args, **_kwargs)\n",
      "\u001b[2m\u001b[36m(TorchTrainer pid=4622)\u001b[0m   File \"/Users/bveeramani/GitHub/ray/python/ray/tune/trainable/function_trainable.py\", line 417, in step\n",
      "\u001b[2m\u001b[36m(TorchTrainer pid=4622)\u001b[0m     self._report_thread_runner_error(block=True)\n",
      "\u001b[2m\u001b[36m(TorchTrainer pid=4622)\u001b[0m   File \"/Users/bveeramani/GitHub/ray/python/ray/util/tracing/tracing_helper.py\", line 466, in _resume_span\n",
      "\u001b[2m\u001b[36m(TorchTrainer pid=4622)\u001b[0m     return method(self, *_args, **_kwargs)\n",
      "\u001b[2m\u001b[36m(TorchTrainer pid=4622)\u001b[0m   File \"/Users/bveeramani/GitHub/ray/python/ray/tune/trainable/function_trainable.py\", line 589, in _report_thread_runner_error\n",
      "\u001b[2m\u001b[36m(TorchTrainer pid=4622)\u001b[0m     raise e\n",
      "\u001b[2m\u001b[36m(TorchTrainer pid=4622)\u001b[0m   File \"/Users/bveeramani/GitHub/ray/python/ray/tune/trainable/function_trainable.py\", line 289, in run\n",
      "\u001b[2m\u001b[36m(TorchTrainer pid=4622)\u001b[0m     self._entrypoint()\n",
      "\u001b[2m\u001b[36m(TorchTrainer pid=4622)\u001b[0m   File \"/Users/bveeramani/GitHub/ray/python/ray/tune/trainable/function_trainable.py\", line 362, in entrypoint\n",
      "\u001b[2m\u001b[36m(TorchTrainer pid=4622)\u001b[0m     return self._trainable_func(\n",
      "\u001b[2m\u001b[36m(TorchTrainer pid=4622)\u001b[0m   File \"/Users/bveeramani/GitHub/ray/python/ray/util/tracing/tracing_helper.py\", line 466, in _resume_span\n",
      "\u001b[2m\u001b[36m(TorchTrainer pid=4622)\u001b[0m     return method(self, *_args, **_kwargs)\n",
      "\u001b[2m\u001b[36m(TorchTrainer pid=4622)\u001b[0m   File \"/Users/bveeramani/GitHub/ray/python/ray/train/base_trainer.py\", line 460, in _trainable_func\n",
      "\u001b[2m\u001b[36m(TorchTrainer pid=4622)\u001b[0m     super()._trainable_func(self._merged_config, reporter, checkpoint_dir)\n",
      "\u001b[2m\u001b[36m(TorchTrainer pid=4622)\u001b[0m   File \"/Users/bveeramani/GitHub/ray/python/ray/tune/trainable/function_trainable.py\", line 684, in _trainable_func\n",
      "\u001b[2m\u001b[36m(TorchTrainer pid=4622)\u001b[0m     output = fn()\n",
      "\u001b[2m\u001b[36m(TorchTrainer pid=4622)\u001b[0m   File \"/Users/bveeramani/GitHub/ray/python/ray/train/base_trainer.py\", line 375, in train_func\n",
      "\u001b[2m\u001b[36m(TorchTrainer pid=4622)\u001b[0m     trainer.training_loop()\n",
      "\u001b[2m\u001b[36m(TorchTrainer pid=4622)\u001b[0m   File \"/Users/bveeramani/GitHub/ray/python/ray/train/data_parallel_trainer.py\", line 358, in training_loop\n",
      "\u001b[2m\u001b[36m(TorchTrainer pid=4622)\u001b[0m     for results in training_iterator:\n",
      "\u001b[2m\u001b[36m(TorchTrainer pid=4622)\u001b[0m   File \"/Users/bveeramani/GitHub/ray/python/ray/train/trainer.py\", line 761, in __next__\n",
      "\u001b[2m\u001b[36m(TorchTrainer pid=4622)\u001b[0m     self._final_results = self._run_with_error_handling(\n",
      "\u001b[2m\u001b[36m(TorchTrainer pid=4622)\u001b[0m   File \"/Users/bveeramani/GitHub/ray/python/ray/train/trainer.py\", line 722, in _run_with_error_handling\n",
      "\u001b[2m\u001b[36m(TorchTrainer pid=4622)\u001b[0m     return func()\n",
      "\u001b[2m\u001b[36m(TorchTrainer pid=4622)\u001b[0m   File \"/Users/bveeramani/GitHub/ray/python/ray/train/trainer.py\", line 833, in _finish_training\n",
      "\u001b[2m\u001b[36m(TorchTrainer pid=4622)\u001b[0m     return self._backend_executor.finish_training()\n",
      "\u001b[2m\u001b[36m(TorchTrainer pid=4622)\u001b[0m   File \"/Users/bveeramani/GitHub/ray/python/ray/train/_internal/backend_executor.py\", line 458, in finish_training\n",
      "\u001b[2m\u001b[36m(TorchTrainer pid=4622)\u001b[0m     results = self.get_with_failure_handling(futures)\n",
      "\u001b[2m\u001b[36m(TorchTrainer pid=4622)\u001b[0m   File \"/Users/bveeramani/GitHub/ray/python/ray/train/_internal/backend_executor.py\", line 477, in get_with_failure_handling\n",
      "\u001b[2m\u001b[36m(TorchTrainer pid=4622)\u001b[0m     success = check_for_failure(remote_values)\n",
      "\u001b[2m\u001b[36m(TorchTrainer pid=4622)\u001b[0m   File \"/Users/bveeramani/GitHub/ray/python/ray/train/_internal/utils.py\", line 52, in check_for_failure\n",
      "\u001b[2m\u001b[36m(TorchTrainer pid=4622)\u001b[0m     ray.get(object_ref)\n",
      "\u001b[2m\u001b[36m(TorchTrainer pid=4622)\u001b[0m   File \"/Users/bveeramani/GitHub/ray/python/ray/_private/client_mode_hook.py\", line 105, in wrapper\n",
      "\u001b[2m\u001b[36m(TorchTrainer pid=4622)\u001b[0m     return func(*args, **kwargs)\n",
      "\u001b[2m\u001b[36m(TorchTrainer pid=4622)\u001b[0m   File \"/Users/bveeramani/GitHub/ray/python/ray/_private/worker.py\", line 2245, in get\n",
      "\u001b[2m\u001b[36m(TorchTrainer pid=4622)\u001b[0m     raise value.as_instanceof_cause()\n",
      "\u001b[2m\u001b[36m(TorchTrainer pid=4622)\u001b[0m ray.exceptions.RayTaskError(PicklingError): \u001b[36mray::RayTrainWorker._RayTrainWorker__execute()\u001b[39m (pid=4628, ip=127.0.0.1, repr=<ray.train._internal.worker_group.RayTrainWorker object at 0x10a6221f0>)\n",
      "\u001b[2m\u001b[36m(TorchTrainer pid=4622)\u001b[0m   File \"/Users/bveeramani/GitHub/ray/python/ray/train/_internal/worker_group.py\", line 26, in __execute\n",
      "\u001b[2m\u001b[36m(TorchTrainer pid=4622)\u001b[0m     return func(*args, **kwargs)\n",
      "\u001b[2m\u001b[36m(TorchTrainer pid=4622)\u001b[0m   File \"/Users/bveeramani/GitHub/ray/python/ray/train/_internal/backend_executor.py\", line 449, in end_training\n",
      "\u001b[2m\u001b[36m(TorchTrainer pid=4622)\u001b[0m     output = session.finish()\n",
      "\u001b[2m\u001b[36m(TorchTrainer pid=4622)\u001b[0m   File \"/Users/bveeramani/GitHub/ray/python/ray/train/_internal/session.py\", line 140, in finish\n",
      "\u001b[2m\u001b[36m(TorchTrainer pid=4622)\u001b[0m     func_output = self.training_thread.join()\n",
      "\u001b[2m\u001b[36m(TorchTrainer pid=4622)\u001b[0m   File \"/Users/bveeramani/GitHub/ray/python/ray/train/_internal/utils.py\", line 98, in join\n",
      "\u001b[2m\u001b[36m(TorchTrainer pid=4622)\u001b[0m     raise self.exc\n",
      "\u001b[2m\u001b[36m(TorchTrainer pid=4622)\u001b[0m   File \"/Users/bveeramani/GitHub/ray/python/ray/train/_internal/utils.py\", line 91, in run\n",
      "\u001b[2m\u001b[36m(TorchTrainer pid=4622)\u001b[0m     self.ret = self._target(*self._args, **self._kwargs)\n",
      "\u001b[2m\u001b[36m(TorchTrainer pid=4622)\u001b[0m   File \"/Users/bveeramani/GitHub/ray/python/ray/train/_internal/utils.py\", line 155, in <lambda>\n",
      "\u001b[2m\u001b[36m(TorchTrainer pid=4622)\u001b[0m     return lambda: wrapped_train_func(config)\n",
      "\u001b[2m\u001b[36m(TorchTrainer pid=4622)\u001b[0m   File \"/Users/bveeramani/GitHub/ray/python/ray/train/_internal/utils.py\", line 141, in discard_return_wrapper\n",
      "\u001b[2m\u001b[36m(TorchTrainer pid=4622)\u001b[0m     train_func(*args, **kwargs)\n",
      "\u001b[2m\u001b[36m(TorchTrainer pid=4622)\u001b[0m   File \"/var/folders/j8/553rq3812fv573lghv2m98n80000gn/T/ipykernel_4418/2696409936.py\", line 43, in train_loop_per_worker\n",
      "\u001b[2m\u001b[36m(TorchTrainer pid=4622)\u001b[0m   File \"/Users/bveeramani/GitHub/ray/python/ray/air/session.py\", line 61, in report\n",
      "\u001b[2m\u001b[36m(TorchTrainer pid=4622)\u001b[0m     _get_session().report(metrics, checkpoint=checkpoint)\n",
      "\u001b[2m\u001b[36m(TorchTrainer pid=4622)\u001b[0m   File \"/Users/bveeramani/GitHub/ray/python/ray/train/session.py\", line 26, in report\n",
      "\u001b[2m\u001b[36m(TorchTrainer pid=4622)\u001b[0m     self._session.report(metrics, checkpoint)\n",
      "\u001b[2m\u001b[36m(TorchTrainer pid=4622)\u001b[0m   File \"/Users/bveeramani/GitHub/ray/python/ray/train/_internal/session.py\", line 265, in report\n",
      "\u001b[2m\u001b[36m(TorchTrainer pid=4622)\u001b[0m     self.checkpoint(**checkpoint_dict)\n",
      "\u001b[2m\u001b[36m(TorchTrainer pid=4622)\u001b[0m   File \"/Users/bveeramani/GitHub/ray/python/ray/train/_internal/session.py\", line 251, in checkpoint\n",
      "\u001b[2m\u001b[36m(TorchTrainer pid=4622)\u001b[0m     kwargs = self._encode_data_fn(self._auto_fill_checkpoint_metrics(kwargs))\n",
      "\u001b[2m\u001b[36m(TorchTrainer pid=4622)\u001b[0m   File \"/Users/bveeramani/GitHub/ray/python/ray/train/torch/config.py\", line 178, in encode_data\n",
      "\u001b[2m\u001b[36m(TorchTrainer pid=4622)\u001b[0m     torch.save(data_dict, _buffer)\n",
      "\u001b[2m\u001b[36m(TorchTrainer pid=4622)\u001b[0m   File \"/Users/bveeramani/GitHub/ray/.venv/lib/python3.9/site-packages/torch/serialization.py\", line 379, in save\n",
      "\u001b[2m\u001b[36m(TorchTrainer pid=4622)\u001b[0m     _save(obj, opened_zipfile, pickle_module, pickle_protocol)\n",
      "\u001b[2m\u001b[36m(TorchTrainer pid=4622)\u001b[0m   File \"/Users/bveeramani/GitHub/ray/.venv/lib/python3.9/site-packages/torch/serialization.py\", line 589, in _save\n",
      "\u001b[2m\u001b[36m(TorchTrainer pid=4622)\u001b[0m     pickler.dump(obj)\n",
      "\u001b[2m\u001b[36m(TorchTrainer pid=4622)\u001b[0m _pickle.PicklingError: Can't pickle <class '__main__.Net'>: attribute lookup Net on __main__ failed\n",
      "2022-08-16 11:49:24,711\tERROR tune.py:754 -- Trials did not complete: [TorchTrainer_177ee_00000]\n",
      "2022-08-16 11:49:24,711\tINFO tune.py:758 -- Total run time: 24.23 seconds (24.11 seconds for the tuning loop).\n"
     ]
    },
    {
     "ename": "RayTaskError(PicklingError)",
     "evalue": "\u001b[36mray::TrainTrainable.train()\u001b[39m (pid=4622, ip=127.0.0.1, repr=TorchTrainer)\n  File \"/Users/bveeramani/GitHub/ray/python/ray/tune/trainable/trainable.py\", line 347, in train\n    result = self.step()\n  File \"/Users/bveeramani/GitHub/ray/python/ray/tune/trainable/function_trainable.py\", line 417, in step\n    self._report_thread_runner_error(block=True)\n  File \"/Users/bveeramani/GitHub/ray/python/ray/tune/trainable/function_trainable.py\", line 589, in _report_thread_runner_error\n    raise e\n  File \"/Users/bveeramani/GitHub/ray/python/ray/tune/trainable/function_trainable.py\", line 289, in run\n    self._entrypoint()\n  File \"/Users/bveeramani/GitHub/ray/python/ray/tune/trainable/function_trainable.py\", line 362, in entrypoint\n    return self._trainable_func(\n  File \"/Users/bveeramani/GitHub/ray/python/ray/train/base_trainer.py\", line 460, in _trainable_func\n    super()._trainable_func(self._merged_config, reporter, checkpoint_dir)\n  File \"/Users/bveeramani/GitHub/ray/python/ray/tune/trainable/function_trainable.py\", line 684, in _trainable_func\n    output = fn()\n  File \"/Users/bveeramani/GitHub/ray/python/ray/train/base_trainer.py\", line 375, in train_func\n    trainer.training_loop()\n  File \"/Users/bveeramani/GitHub/ray/python/ray/train/data_parallel_trainer.py\", line 358, in training_loop\n    for results in training_iterator:\n  File \"/Users/bveeramani/GitHub/ray/python/ray/train/trainer.py\", line 761, in __next__\n    self._final_results = self._run_with_error_handling(\n  File \"/Users/bveeramani/GitHub/ray/python/ray/train/trainer.py\", line 722, in _run_with_error_handling\n    return func()\n  File \"/Users/bveeramani/GitHub/ray/python/ray/train/trainer.py\", line 833, in _finish_training\n    return self._backend_executor.finish_training()\n  File \"/Users/bveeramani/GitHub/ray/python/ray/train/_internal/backend_executor.py\", line 458, in finish_training\n    results = self.get_with_failure_handling(futures)\n  File \"/Users/bveeramani/GitHub/ray/python/ray/train/_internal/backend_executor.py\", line 477, in get_with_failure_handling\n    success = check_for_failure(remote_values)\n  File \"/Users/bveeramani/GitHub/ray/python/ray/train/_internal/utils.py\", line 52, in check_for_failure\n    ray.get(object_ref)\nray.exceptions.RayTaskError(PicklingError): \u001b[36mray::RayTrainWorker._RayTrainWorker__execute()\u001b[39m (pid=4628, ip=127.0.0.1, repr=<ray.train._internal.worker_group.RayTrainWorker object at 0x10a6221f0>)\n  File \"/Users/bveeramani/GitHub/ray/python/ray/train/_internal/worker_group.py\", line 26, in __execute\n    return func(*args, **kwargs)\n  File \"/Users/bveeramani/GitHub/ray/python/ray/train/_internal/backend_executor.py\", line 449, in end_training\n    output = session.finish()\n  File \"/Users/bveeramani/GitHub/ray/python/ray/train/_internal/session.py\", line 140, in finish\n    func_output = self.training_thread.join()\n  File \"/Users/bveeramani/GitHub/ray/python/ray/train/_internal/utils.py\", line 98, in join\n    raise self.exc\n  File \"/Users/bveeramani/GitHub/ray/python/ray/train/_internal/utils.py\", line 91, in run\n    self.ret = self._target(*self._args, **self._kwargs)\n  File \"/Users/bveeramani/GitHub/ray/python/ray/train/_internal/utils.py\", line 155, in <lambda>\n    return lambda: wrapped_train_func(config)\n  File \"/Users/bveeramani/GitHub/ray/python/ray/train/_internal/utils.py\", line 141, in discard_return_wrapper\n    train_func(*args, **kwargs)\n  File \"/var/folders/j8/553rq3812fv573lghv2m98n80000gn/T/ipykernel_4418/2696409936.py\", line 43, in train_loop_per_worker\n  File \"/Users/bveeramani/GitHub/ray/python/ray/air/session.py\", line 61, in report\n    _get_session().report(metrics, checkpoint=checkpoint)\n  File \"/Users/bveeramani/GitHub/ray/python/ray/train/session.py\", line 26, in report\n    self._session.report(metrics, checkpoint)\n  File \"/Users/bveeramani/GitHub/ray/python/ray/train/_internal/session.py\", line 265, in report\n    self.checkpoint(**checkpoint_dict)\n  File \"/Users/bveeramani/GitHub/ray/python/ray/train/_internal/session.py\", line 251, in checkpoint\n    kwargs = self._encode_data_fn(self._auto_fill_checkpoint_metrics(kwargs))\n  File \"/Users/bveeramani/GitHub/ray/python/ray/train/torch/config.py\", line 178, in encode_data\n    torch.save(data_dict, _buffer)\n  File \"/Users/bveeramani/GitHub/ray/.venv/lib/python3.9/site-packages/torch/serialization.py\", line 379, in save\n    _save(obj, opened_zipfile, pickle_module, pickle_protocol)\n  File \"/Users/bveeramani/GitHub/ray/.venv/lib/python3.9/site-packages/torch/serialization.py\", line 589, in _save\n    pickler.dump(obj)\n_pickle.PicklingError: Can't pickle <class '__main__.Net'>: attribute lookup Net on __main__ failed",
     "output_type": "error",
     "traceback": [
      "\u001b[0;31m---------------------------------------------------------------------------\u001b[0m",
      "\u001b[0;31mRayTaskError(PicklingError)\u001b[0m               Traceback (most recent call last)",
      "\u001b[1;32m/Users/bveeramani/GitHub/ray/doc/source/ray-air/examples/torch_image_example.ipynb Cell 16\u001b[0m in \u001b[0;36m<cell line: 10>\u001b[0;34m()\u001b[0m\n\u001b[1;32m      <a href='vscode-notebook-cell:/Users/bveeramani/GitHub/ray/doc/source/ray-air/examples/torch_image_example.ipynb#X21sZmlsZQ%3D%3D?line=1'>2</a>\u001b[0m \u001b[39mfrom\u001b[39;00m \u001b[39mray\u001b[39;00m\u001b[39m.\u001b[39;00m\u001b[39mair\u001b[39;00m\u001b[39m.\u001b[39;00m\u001b[39mconfig\u001b[39;00m \u001b[39mimport\u001b[39;00m ScalingConfig\n\u001b[1;32m      <a href='vscode-notebook-cell:/Users/bveeramani/GitHub/ray/doc/source/ray-air/examples/torch_image_example.ipynb#X21sZmlsZQ%3D%3D?line=3'>4</a>\u001b[0m trainer \u001b[39m=\u001b[39m TorchTrainer(\n\u001b[1;32m      <a href='vscode-notebook-cell:/Users/bveeramani/GitHub/ray/doc/source/ray-air/examples/torch_image_example.ipynb#X21sZmlsZQ%3D%3D?line=4'>5</a>\u001b[0m     train_loop_per_worker\u001b[39m=\u001b[39mtrain_loop_per_worker,\n\u001b[1;32m      <a href='vscode-notebook-cell:/Users/bveeramani/GitHub/ray/doc/source/ray-air/examples/torch_image_example.ipynb#X21sZmlsZQ%3D%3D?line=5'>6</a>\u001b[0m     train_loop_config\u001b[39m=\u001b[39m{\u001b[39m\"\u001b[39m\u001b[39mbatch_size\u001b[39m\u001b[39m\"\u001b[39m: \u001b[39m2\u001b[39m},\n\u001b[1;32m      <a href='vscode-notebook-cell:/Users/bveeramani/GitHub/ray/doc/source/ray-air/examples/torch_image_example.ipynb#X21sZmlsZQ%3D%3D?line=6'>7</a>\u001b[0m     datasets\u001b[39m=\u001b[39m{\u001b[39m\"\u001b[39m\u001b[39mtrain\u001b[39m\u001b[39m\"\u001b[39m: train_dataset},\n\u001b[1;32m      <a href='vscode-notebook-cell:/Users/bveeramani/GitHub/ray/doc/source/ray-air/examples/torch_image_example.ipynb#X21sZmlsZQ%3D%3D?line=7'>8</a>\u001b[0m     scaling_config\u001b[39m=\u001b[39mScalingConfig(num_workers\u001b[39m=\u001b[39m\u001b[39m1\u001b[39m)\n\u001b[1;32m      <a href='vscode-notebook-cell:/Users/bveeramani/GitHub/ray/doc/source/ray-air/examples/torch_image_example.ipynb#X21sZmlsZQ%3D%3D?line=8'>9</a>\u001b[0m )\n\u001b[0;32m---> <a href='vscode-notebook-cell:/Users/bveeramani/GitHub/ray/doc/source/ray-air/examples/torch_image_example.ipynb#X21sZmlsZQ%3D%3D?line=9'>10</a>\u001b[0m result \u001b[39m=\u001b[39m trainer\u001b[39m.\u001b[39;49mfit()\n\u001b[1;32m     <a href='vscode-notebook-cell:/Users/bveeramani/GitHub/ray/doc/source/ray-air/examples/torch_image_example.ipynb#X21sZmlsZQ%3D%3D?line=10'>11</a>\u001b[0m latest_checkpoint \u001b[39m=\u001b[39m result\u001b[39m.\u001b[39mcheckpoint\n",
      "File \u001b[0;32m~/GitHub/ray/python/ray/train/base_trainer.py:349\u001b[0m, in \u001b[0;36mBaseTrainer.fit\u001b[0;34m(self)\u001b[0m\n\u001b[1;32m    347\u001b[0m     result \u001b[39m=\u001b[39m result_grid[\u001b[39m0\u001b[39m]\n\u001b[1;32m    348\u001b[0m     \u001b[39mif\u001b[39;00m result\u001b[39m.\u001b[39merror:\n\u001b[0;32m--> 349\u001b[0m         \u001b[39mraise\u001b[39;00m result\u001b[39m.\u001b[39merror\n\u001b[1;32m    350\u001b[0m \u001b[39mexcept\u001b[39;00m TuneError \u001b[39mas\u001b[39;00m e:\n\u001b[1;32m    351\u001b[0m     \u001b[39mraise\u001b[39;00m TrainingFailedError \u001b[39mfrom\u001b[39;00m \u001b[39me\u001b[39;00m\n",
      "\u001b[0;31mRayTaskError(PicklingError)\u001b[0m: \u001b[36mray::TrainTrainable.train()\u001b[39m (pid=4622, ip=127.0.0.1, repr=TorchTrainer)\n  File \"/Users/bveeramani/GitHub/ray/python/ray/tune/trainable/trainable.py\", line 347, in train\n    result = self.step()\n  File \"/Users/bveeramani/GitHub/ray/python/ray/tune/trainable/function_trainable.py\", line 417, in step\n    self._report_thread_runner_error(block=True)\n  File \"/Users/bveeramani/GitHub/ray/python/ray/tune/trainable/function_trainable.py\", line 589, in _report_thread_runner_error\n    raise e\n  File \"/Users/bveeramani/GitHub/ray/python/ray/tune/trainable/function_trainable.py\", line 289, in run\n    self._entrypoint()\n  File \"/Users/bveeramani/GitHub/ray/python/ray/tune/trainable/function_trainable.py\", line 362, in entrypoint\n    return self._trainable_func(\n  File \"/Users/bveeramani/GitHub/ray/python/ray/train/base_trainer.py\", line 460, in _trainable_func\n    super()._trainable_func(self._merged_config, reporter, checkpoint_dir)\n  File \"/Users/bveeramani/GitHub/ray/python/ray/tune/trainable/function_trainable.py\", line 684, in _trainable_func\n    output = fn()\n  File \"/Users/bveeramani/GitHub/ray/python/ray/train/base_trainer.py\", line 375, in train_func\n    trainer.training_loop()\n  File \"/Users/bveeramani/GitHub/ray/python/ray/train/data_parallel_trainer.py\", line 358, in training_loop\n    for results in training_iterator:\n  File \"/Users/bveeramani/GitHub/ray/python/ray/train/trainer.py\", line 761, in __next__\n    self._final_results = self._run_with_error_handling(\n  File \"/Users/bveeramani/GitHub/ray/python/ray/train/trainer.py\", line 722, in _run_with_error_handling\n    return func()\n  File \"/Users/bveeramani/GitHub/ray/python/ray/train/trainer.py\", line 833, in _finish_training\n    return self._backend_executor.finish_training()\n  File \"/Users/bveeramani/GitHub/ray/python/ray/train/_internal/backend_executor.py\", line 458, in finish_training\n    results = self.get_with_failure_handling(futures)\n  File \"/Users/bveeramani/GitHub/ray/python/ray/train/_internal/backend_executor.py\", line 477, in get_with_failure_handling\n    success = check_for_failure(remote_values)\n  File \"/Users/bveeramani/GitHub/ray/python/ray/train/_internal/utils.py\", line 52, in check_for_failure\n    ray.get(object_ref)\nray.exceptions.RayTaskError(PicklingError): \u001b[36mray::RayTrainWorker._RayTrainWorker__execute()\u001b[39m (pid=4628, ip=127.0.0.1, repr=<ray.train._internal.worker_group.RayTrainWorker object at 0x10a6221f0>)\n  File \"/Users/bveeramani/GitHub/ray/python/ray/train/_internal/worker_group.py\", line 26, in __execute\n    return func(*args, **kwargs)\n  File \"/Users/bveeramani/GitHub/ray/python/ray/train/_internal/backend_executor.py\", line 449, in end_training\n    output = session.finish()\n  File \"/Users/bveeramani/GitHub/ray/python/ray/train/_internal/session.py\", line 140, in finish\n    func_output = self.training_thread.join()\n  File \"/Users/bveeramani/GitHub/ray/python/ray/train/_internal/utils.py\", line 98, in join\n    raise self.exc\n  File \"/Users/bveeramani/GitHub/ray/python/ray/train/_internal/utils.py\", line 91, in run\n    self.ret = self._target(*self._args, **self._kwargs)\n  File \"/Users/bveeramani/GitHub/ray/python/ray/train/_internal/utils.py\", line 155, in <lambda>\n    return lambda: wrapped_train_func(config)\n  File \"/Users/bveeramani/GitHub/ray/python/ray/train/_internal/utils.py\", line 141, in discard_return_wrapper\n    train_func(*args, **kwargs)\n  File \"/var/folders/j8/553rq3812fv573lghv2m98n80000gn/T/ipykernel_4418/2696409936.py\", line 43, in train_loop_per_worker\n  File \"/Users/bveeramani/GitHub/ray/python/ray/air/session.py\", line 61, in report\n    _get_session().report(metrics, checkpoint=checkpoint)\n  File \"/Users/bveeramani/GitHub/ray/python/ray/train/session.py\", line 26, in report\n    self._session.report(metrics, checkpoint)\n  File \"/Users/bveeramani/GitHub/ray/python/ray/train/_internal/session.py\", line 265, in report\n    self.checkpoint(**checkpoint_dict)\n  File \"/Users/bveeramani/GitHub/ray/python/ray/train/_internal/session.py\", line 251, in checkpoint\n    kwargs = self._encode_data_fn(self._auto_fill_checkpoint_metrics(kwargs))\n  File \"/Users/bveeramani/GitHub/ray/python/ray/train/torch/config.py\", line 178, in encode_data\n    torch.save(data_dict, _buffer)\n  File \"/Users/bveeramani/GitHub/ray/.venv/lib/python3.9/site-packages/torch/serialization.py\", line 379, in save\n    _save(obj, opened_zipfile, pickle_module, pickle_protocol)\n  File \"/Users/bveeramani/GitHub/ray/.venv/lib/python3.9/site-packages/torch/serialization.py\", line 589, in _save\n    pickler.dump(obj)\n_pickle.PicklingError: Can't pickle <class '__main__.Net'>: attribute lookup Net on __main__ failed"
     ]
    }
   ],
   "source": [
    "from ray.air.config import ScalingConfig\n",
    "from ray.train.torch import TorchTrainer\n",
    "\n",
    "trainer = TorchTrainer(\n",
    "    train_loop_per_worker=train_loop_per_worker,\n",
    "    train_loop_config={\"batch_size\": 2},\n",
    "    datasets={\"train\": train_dataset},\n",
    "    scaling_config=ScalingConfig(num_workers=2),\n",
    ")\n",
    "result = trainer.fit()\n",
    "latest_checkpoint = result.checkpoint"
   ]
  },
  {
   "cell_type": "markdown",
   "id": "1df4faa9",
   "metadata": {},
   "source": [
    "To scale your training script, create a [Ray Cluster](cluster-index) and increase the number of workers. If your cluster contains GPUs, add `\"use_gpu\": True` to your scaling config.\n",
    "\n",
    "```{code-block} python\n",
    "scaling_config=ScalingConfig(num_workers=8, \"use_gpu=True)\n",
    "```\n",
    "\n",
    "## Test the network on the test data\n",
    "\n",
    "Let's see how our model performs.\n",
    "\n",
    "To classify images in the test dataset, we'll need to create a {py:class}`Predictor <ray.train.predictor.Predictor>`.\n",
    "\n",
    "{py:class}`Predictors <ray.train.predictor.Predictor>` load data from checkpoints and efficiently perform inference. In contrast to {py:class}`TorchPredictor <ray.train.torch.TorchPredictor>`, which performs inference on a single batch, {py:class}`BatchPredictor <ray.train.batch_predictor.BatchPredictor>` performs inference on an entire dataset. Because we want to classify all of the images in the test dataset, we'll use a {py:class}`BatchPredictor <ray.train.batch_predictor.BatchPredictor>`."
   ]
  },
  {
   "cell_type": "code",
   "execution_count": null,
   "id": "990ec534",
   "metadata": {},
   "outputs": [],
   "source": [
    "from ray.train.batch_predictor import BatchPredictor\n",
    "from ray.train.torch import TorchPredictor\n",
    "\n",
    "batch_predictor = BatchPredictor.from_checkpoint(\n",
    "    checkpoint=latest_checkpoint,\n",
    "    predictor_cls=TorchPredictor,\n",
    "    model=Net(),\n",
    ")\n",
    "\n",
    "outputs: ray.data.Dataset = batch_predictor.predict(\n",
    "    test_dataset, dtype=torch.float, feature_columns=[\"image\"], keep_columns=[\"label\"]\n",
    ")"
   ]
  },
  {
   "cell_type": "markdown",
   "id": "d20fd044",
   "metadata": {},
   "source": [
    "Our model outputs a list of energies for each class. To classify an image, we\n",
    "choose the class that has the highest energy."
   ]
  },
  {
   "cell_type": "code",
   "execution_count": null,
   "id": "00c8a336",
   "metadata": {},
   "outputs": [],
   "source": [
    "import numpy as np\n",
    "\n",
    "\n",
    "def convert_logits_to_classes(df):\n",
    "    best_class = df[\"predictions\"].map(lambda x: x.argmax())\n",
    "    df[\"prediction\"] = best_class\n",
    "    return df\n",
    "\n",
    "\n",
    "predictions = outputs.map_batches(convert_logits_to_classes)\n",
    "\n",
    "predictions.show(1)"
   ]
  },
  {
   "cell_type": "markdown",
   "id": "8973efc6",
   "metadata": {},
   "source": [
    "Now that we've classified all of the images, let's figure out which images were\n",
    "classified correctly. The ``predictions`` dataset contains predicted labels and \n",
    "the ``test_dataset`` contains the true labels. To determine whether an image \n",
    "was classified correctly, we join the two datasets and check if the predicted \n",
    "labels are the same as the actual labels."
   ]
  },
  {
   "cell_type": "code",
   "execution_count": null,
   "id": "8e6233ba",
   "metadata": {},
   "outputs": [],
   "source": [
    "def calculate_prediction_scores(df):\n",
    "    df[\"correct\"] = df[\"prediction\"] == df[\"label\"]\n",
    "    return df[[\"prediction\", \"label\", \"correct\"]]\n",
    "\n",
    "\n",
    "scores = predictions.map_batches(calculate_prediction_scores)\n",
    "\n",
    "scores.show(1)"
   ]
  },
  {
   "cell_type": "markdown",
   "id": "8d401d91",
   "metadata": {},
   "source": [
    "To compute our test accuracy, we'll count how many images the model classified \n",
    "correctly and divide that number by the total number of test images."
   ]
  },
  {
   "cell_type": "code",
   "execution_count": null,
   "id": "29b2e2c2",
   "metadata": {},
   "outputs": [],
   "source": [
    "scores.sum(on=\"correct\") / scores.count()"
   ]
  },
  {
   "cell_type": "markdown",
   "id": "f0c84e2c",
   "metadata": {},
   "source": [
    "## Deploy the network and make a prediction\n",
    "\n",
    "Our model seems to perform decently, so let's deploy the model to an \n",
    "endpoint. This'll allow us to make predictions over the Internet."
   ]
  },
  {
   "cell_type": "code",
   "execution_count": null,
   "id": "f2faaf4c",
   "metadata": {},
   "outputs": [],
   "source": [
    "from ray import serve\n",
    "from ray.serve import PredictorDeployment\n",
    "from ray.serve.http_adapters import NdArray\n",
    "\n",
    "\n",
    "def json_to_numpy(payload: NdArray) -> pd.DataFrame:\n",
    "    \"\"\"Accepts an NdArray JSON from an HTTP body and converts it to a Numpy Array.\"\"\"\n",
    "    # Have to explicitly convert to float since np.array reads as a double.\n",
    "    arr = np.array(payload.array, dtype=np.float32)\n",
    "    return arr\n",
    "\n",
    "\n",
    "serve.run(\n",
    "    PredictorDeployment.bind(\n",
    "        TorchPredictor,\n",
    "        latest_checkpoint,\n",
    "        batching_params=False,\n",
    "        model=Net(),\n",
    "        http_adapter=json_to_numpy,\n",
    "    )\n",
    ")"
   ]
  },
  {
   "cell_type": "markdown",
   "id": "90327e8a",
   "metadata": {},
   "source": [
    "Let's classify a test image."
   ]
  },
  {
   "cell_type": "code",
   "execution_count": null,
   "id": "40da3863",
   "metadata": {},
   "outputs": [],
   "source": [
    "batch = test_dataset.take(1)\n",
    "array = np.expand_dims(np.array(batch[0][\"image\"]), axis=0)"
   ]
  },
  {
   "cell_type": "code",
   "execution_count": null,
   "id": "25e5d563",
   "metadata": {},
   "outputs": [],
   "source": [
    "array.shape"
   ]
  },
  {
   "cell_type": "markdown",
   "id": "556d94b7",
   "metadata": {},
   "source": [
    "You can perform inference against a deployed model by posting a dictionary with an `\"array\"` key. To learn more about the default input schema, read the {py:class}`NdArray <ray.serve.http_adapters.NdArray>` documentation."
   ]
  },
  {
   "cell_type": "code",
   "execution_count": null,
   "id": "45bd85d6",
   "metadata": {},
   "outputs": [],
   "source": [
    "import requests\n",
    "\n",
    "payload = {\"array\": array.tolist()}\n",
    "response = requests.post(\"http://localhost:8000/\", json=payload)\n",
    "response.json()"
   ]
  }
 ],
 "metadata": {
  "kernelspec": {
   "display_name": "Python 3.9.12 ('.venv': venv)",
   "language": "python",
   "name": "python3"
  },
  "language_info": {
   "codemirror_mode": {
    "name": "ipython",
    "version": 3
   },
   "file_extension": ".py",
   "mimetype": "text/x-python",
   "name": "python",
   "nbconvert_exporter": "python",
   "pygments_lexer": "ipython3",
   "version": "3.9.12"
  },
  "vscode": {
   "interpreter": {
    "hash": "a658351b4133f922c5967ed6133cfc05c9f16c53a5161e5843ace3f528fccaf5"
   }
  }
 },
 "nbformat": 4,
 "nbformat_minor": 5
}
