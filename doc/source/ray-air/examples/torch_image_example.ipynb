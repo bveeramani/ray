{
 "cells": [
  {
   "cell_type": "markdown",
   "id": "c6962854",
   "metadata": {},
   "source": [
    "# Training a Torch Classifier\n",
    "\n",
    "This tutorial shows you how to train an image classifier using the [Ray AI Runtime](air) (AIR).\n",
    "\n",
    "You should be familiar with [PyTorch](https://pytorch.org/) before starting the tutorial. If you need a refresher, read PyTorch's [training a classifier](https://pytorch.org/tutorials/beginner/blitz/cifar10_tutorial.html) tutorial.\n",
    "\n",
    "## Before you begin\n",
    "\n",
    "* Install the [Ray AI Runtime](air). You need Ray 2.0 or later to run this example."
   ]
  },
  {
   "cell_type": "code",
   "execution_count": 1,
   "id": "d806ba6b",
   "metadata": {},
   "outputs": [
    {
     "name": "stdout",
     "output_type": "stream",
     "text": [
      "Requirement already satisfied: ray[air] in /Users/bveeramani/GitHub/ray/python (3.0.0.dev0)\n",
      "Requirement already satisfied: attrs in /Users/bveeramani/GitHub/ray/.venv/lib/python3.9/site-packages (from ray[air]) (21.4.0)\n",
      "Requirement already satisfied: click<=8.0.4,>=7.0 in /Users/bveeramani/GitHub/ray/.venv/lib/python3.9/site-packages (from ray[air]) (7.1.2)\n",
      "Requirement already satisfied: filelock in /Users/bveeramani/GitHub/ray/.venv/lib/python3.9/site-packages (from ray[air]) (3.7.1)\n",
      "Requirement already satisfied: jsonschema in /Users/bveeramani/GitHub/ray/.venv/lib/python3.9/site-packages (from ray[air]) (4.8.0)\n",
      "Requirement already satisfied: msgpack<2.0.0,>=1.0.0 in /Users/bveeramani/GitHub/ray/.venv/lib/python3.9/site-packages (from ray[air]) (1.0.4)\n",
      "Requirement already satisfied: protobuf<4.0.0,>=3.15.3 in /Users/bveeramani/GitHub/ray/.venv/lib/python3.9/site-packages (from ray[air]) (3.19.4)\n",
      "Requirement already satisfied: pyyaml in /Users/bveeramani/GitHub/ray/.venv/lib/python3.9/site-packages (from ray[air]) (6.0)\n",
      "Requirement already satisfied: aiosignal in /Users/bveeramani/GitHub/ray/.venv/lib/python3.9/site-packages (from ray[air]) (1.2.0)\n",
      "Requirement already satisfied: frozenlist in /Users/bveeramani/GitHub/ray/.venv/lib/python3.9/site-packages (from ray[air]) (1.3.0)\n",
      "Requirement already satisfied: requests in /Users/bveeramani/GitHub/ray/.venv/lib/python3.9/site-packages (from ray[air]) (2.28.1)\n",
      "Requirement already satisfied: virtualenv in /Users/bveeramani/GitHub/ray/.venv/lib/python3.9/site-packages (from ray[air]) (20.16.2)\n",
      "Requirement already satisfied: grpcio<=1.43.0,>=1.28.1 in /Users/bveeramani/GitHub/ray/.venv/lib/python3.9/site-packages (from ray[air]) (1.43.0)\n",
      "Requirement already satisfied: numpy>=1.19.3 in /Users/bveeramani/GitHub/ray/.venv/lib/python3.9/site-packages (from ray[air]) (1.23.1)\n",
      "Requirement already satisfied: tabulate in /Users/bveeramani/GitHub/ray/.venv/lib/python3.9/site-packages (from ray[air]) (0.8.10)\n",
      "Requirement already satisfied: starlette in /Users/bveeramani/GitHub/ray/.venv/lib/python3.9/site-packages (from ray[air]) (0.19.1)\n",
      "Requirement already satisfied: py-spy>=0.2.0 in /Users/bveeramani/GitHub/ray/.venv/lib/python3.9/site-packages (from ray[air]) (0.3.12)\n",
      "Requirement already satisfied: pandas>=1.3 in /Users/bveeramani/GitHub/ray/.venv/lib/python3.9/site-packages (from ray[air]) (1.4.3)\n",
      "Requirement already satisfied: fastapi in /Users/bveeramani/GitHub/ray/.venv/lib/python3.9/site-packages (from ray[air]) (0.79.0)\n",
      "Requirement already satisfied: prometheus_client<0.14.0,>=0.7.1 in /Users/bveeramani/GitHub/ray/.venv/lib/python3.9/site-packages (from ray[air]) (0.13.1)\n",
      "Requirement already satisfied: pyarrow<7.0.0,>=6.0.1 in /Users/bveeramani/GitHub/ray/.venv/lib/python3.9/site-packages (from ray[air]) (6.0.1)\n",
      "Requirement already satisfied: uvicorn==0.16.0 in /Users/bveeramani/GitHub/ray/.venv/lib/python3.9/site-packages (from ray[air]) (0.16.0)\n",
      "Requirement already satisfied: fsspec in /Users/bveeramani/GitHub/ray/.venv/lib/python3.9/site-packages (from ray[air]) (2022.7.0)\n",
      "Requirement already satisfied: tensorboardX>=1.9 in /Users/bveeramani/GitHub/ray/.venv/lib/python3.9/site-packages (from ray[air]) (2.5.1)\n",
      "Requirement already satisfied: opencensus in /Users/bveeramani/GitHub/ray/.venv/lib/python3.9/site-packages (from ray[air]) (0.11.0)\n",
      "Requirement already satisfied: aiohttp_cors in /Users/bveeramani/GitHub/ray/.venv/lib/python3.9/site-packages (from ray[air]) (0.7.0)\n",
      "Requirement already satisfied: colorful in /Users/bveeramani/GitHub/ray/.venv/lib/python3.9/site-packages (from ray[air]) (0.5.4)\n",
      "Requirement already satisfied: aiohttp>=3.7 in /Users/bveeramani/GitHub/ray/.venv/lib/python3.9/site-packages (from ray[air]) (3.8.1)\n",
      "Requirement already satisfied: gpustat>=1.0.0b1 in /Users/bveeramani/GitHub/ray/.venv/lib/python3.9/site-packages (from ray[air]) (1.0.0rc1)\n",
      "Requirement already satisfied: aiorwlock in /Users/bveeramani/GitHub/ray/.venv/lib/python3.9/site-packages (from ray[air]) (1.3.0)\n",
      "Requirement already satisfied: pydantic in /Users/bveeramani/GitHub/ray/.venv/lib/python3.9/site-packages (from ray[air]) (1.9.1)\n",
      "Requirement already satisfied: smart_open in /Users/bveeramani/GitHub/ray/.venv/lib/python3.9/site-packages (from ray[air]) (6.0.0)\n",
      "Requirement already satisfied: h11>=0.8 in /Users/bveeramani/GitHub/ray/.venv/lib/python3.9/site-packages (from uvicorn==0.16.0->ray[air]) (0.13.0)\n",
      "Requirement already satisfied: asgiref>=3.4.0 in /Users/bveeramani/GitHub/ray/.venv/lib/python3.9/site-packages (from uvicorn==0.16.0->ray[air]) (3.5.2)\n",
      "Requirement already satisfied: multidict<7.0,>=4.5 in /Users/bveeramani/GitHub/ray/.venv/lib/python3.9/site-packages (from aiohttp>=3.7->ray[air]) (6.0.2)\n",
      "Requirement already satisfied: async-timeout<5.0,>=4.0.0a3 in /Users/bveeramani/GitHub/ray/.venv/lib/python3.9/site-packages (from aiohttp>=3.7->ray[air]) (4.0.2)\n",
      "Requirement already satisfied: yarl<2.0,>=1.0 in /Users/bveeramani/GitHub/ray/.venv/lib/python3.9/site-packages (from aiohttp>=3.7->ray[air]) (1.7.2)\n",
      "Requirement already satisfied: charset-normalizer<3.0,>=2.0 in /Users/bveeramani/GitHub/ray/.venv/lib/python3.9/site-packages (from aiohttp>=3.7->ray[air]) (2.1.0)\n",
      "Requirement already satisfied: nvidia-ml-py<=11.495.46,>=11.450.129 in /Users/bveeramani/GitHub/ray/.venv/lib/python3.9/site-packages (from gpustat>=1.0.0b1->ray[air]) (11.495.46)\n",
      "Requirement already satisfied: blessed>=1.17.1 in /Users/bveeramani/GitHub/ray/.venv/lib/python3.9/site-packages (from gpustat>=1.0.0b1->ray[air]) (1.19.1)\n",
      "Requirement already satisfied: psutil>=5.6.0 in /Users/bveeramani/GitHub/ray/.venv/lib/python3.9/site-packages (from gpustat>=1.0.0b1->ray[air]) (5.9.1)\n",
      "Requirement already satisfied: six>=1.7 in /Users/bveeramani/GitHub/ray/.venv/lib/python3.9/site-packages (from gpustat>=1.0.0b1->ray[air]) (1.15.0)\n",
      "Requirement already satisfied: python-dateutil>=2.8.1 in /Users/bveeramani/GitHub/ray/.venv/lib/python3.9/site-packages (from pandas>=1.3->ray[air]) (2.8.2)\n",
      "Requirement already satisfied: pytz>=2020.1 in /Users/bveeramani/GitHub/ray/.venv/lib/python3.9/site-packages (from pandas>=1.3->ray[air]) (2022.1)\n",
      "Requirement already satisfied: typing-extensions>=3.10.0 in /Users/bveeramani/GitHub/ray/.venv/lib/python3.9/site-packages (from starlette->ray[air]) (4.3.0)\n",
      "Requirement already satisfied: anyio<5,>=3.4.0 in /Users/bveeramani/GitHub/ray/.venv/lib/python3.9/site-packages (from starlette->ray[air]) (3.6.1)\n",
      "Requirement already satisfied: pyrsistent!=0.17.0,!=0.17.1,!=0.17.2,>=0.14.0 in /Users/bveeramani/GitHub/ray/.venv/lib/python3.9/site-packages (from jsonschema->ray[air]) (0.18.1)\n",
      "Requirement already satisfied: opencensus-context>=0.1.3 in /Users/bveeramani/GitHub/ray/.venv/lib/python3.9/site-packages (from opencensus->ray[air]) (0.1.3)\n",
      "Requirement already satisfied: google-api-core<3.0.0,>=1.0.0 in /Users/bveeramani/GitHub/ray/.venv/lib/python3.9/site-packages (from opencensus->ray[air]) (2.8.2)\n",
      "Requirement already satisfied: idna<4,>=2.5 in /Users/bveeramani/GitHub/ray/.venv/lib/python3.9/site-packages (from requests->ray[air]) (3.3)\n",
      "Requirement already satisfied: urllib3<1.27,>=1.21.1 in /Users/bveeramani/GitHub/ray/.venv/lib/python3.9/site-packages (from requests->ray[air]) (1.26.11)\n",
      "Requirement already satisfied: certifi>=2017.4.17 in /Users/bveeramani/GitHub/ray/.venv/lib/python3.9/site-packages (from requests->ray[air]) (2022.6.15)\n",
      "Requirement already satisfied: platformdirs<3,>=2 in /Users/bveeramani/GitHub/ray/.venv/lib/python3.9/site-packages (from virtualenv->ray[air]) (2.5.2)\n",
      "Requirement already satisfied: distlib<1,>=0.3.1 in /Users/bveeramani/GitHub/ray/.venv/lib/python3.9/site-packages (from virtualenv->ray[air]) (0.3.5)\n",
      "Requirement already satisfied: sniffio>=1.1 in /Users/bveeramani/GitHub/ray/.venv/lib/python3.9/site-packages (from anyio<5,>=3.4.0->starlette->ray[air]) (1.2.0)\n",
      "Requirement already satisfied: wcwidth>=0.1.4 in /Users/bveeramani/GitHub/ray/.venv/lib/python3.9/site-packages (from blessed>=1.17.1->gpustat>=1.0.0b1->ray[air]) (0.2.5)\n",
      "Requirement already satisfied: google-auth<3.0dev,>=1.25.0 in /Users/bveeramani/GitHub/ray/.venv/lib/python3.9/site-packages (from google-api-core<3.0.0,>=1.0.0->opencensus->ray[air]) (2.9.1)\n",
      "Requirement already satisfied: googleapis-common-protos<2.0dev,>=1.56.2 in /Users/bveeramani/GitHub/ray/.venv/lib/python3.9/site-packages (from google-api-core<3.0.0,>=1.0.0->opencensus->ray[air]) (1.56.4)\n",
      "Requirement already satisfied: cachetools<6.0,>=2.0.0 in /Users/bveeramani/GitHub/ray/.venv/lib/python3.9/site-packages (from google-auth<3.0dev,>=1.25.0->google-api-core<3.0.0,>=1.0.0->opencensus->ray[air]) (5.2.0)\n",
      "Requirement already satisfied: rsa<5,>=3.1.4 in /Users/bveeramani/GitHub/ray/.venv/lib/python3.9/site-packages (from google-auth<3.0dev,>=1.25.0->google-api-core<3.0.0,>=1.0.0->opencensus->ray[air]) (4.9)\n",
      "Requirement already satisfied: pyasn1-modules>=0.2.1 in /Users/bveeramani/GitHub/ray/.venv/lib/python3.9/site-packages (from google-auth<3.0dev,>=1.25.0->google-api-core<3.0.0,>=1.0.0->opencensus->ray[air]) (0.2.8)\n",
      "Requirement already satisfied: pyasn1<0.5.0,>=0.4.6 in /Users/bveeramani/GitHub/ray/.venv/lib/python3.9/site-packages (from pyasn1-modules>=0.2.1->google-auth<3.0dev,>=1.25.0->google-api-core<3.0.0,>=1.0.0->opencensus->ray[air]) (0.4.8)\n"
     ]
    }
   ],
   "source": [
    "!pip install 'ray[air]'"
   ]
  },
  {
   "cell_type": "markdown",
   "id": "6d588ce2",
   "metadata": {},
   "source": [
    "* Install `requests`, `torch`, and `torchvision`"
   ]
  },
  {
   "cell_type": "code",
   "execution_count": 2,
   "id": "77a70a7a",
   "metadata": {},
   "outputs": [
    {
     "name": "stdout",
     "output_type": "stream",
     "text": [
      "Requirement already satisfied: requests in /Users/bveeramani/GitHub/ray/.venv/lib/python3.9/site-packages (2.28.1)\n",
      "Requirement already satisfied: torch in /Users/bveeramani/GitHub/ray/.venv/lib/python3.9/site-packages (1.12.0)\n",
      "Requirement already satisfied: torchvision in /Users/bveeramani/GitHub/ray/.venv/lib/python3.9/site-packages (0.13.0)\n",
      "Requirement already satisfied: urllib3<1.27,>=1.21.1 in /Users/bveeramani/GitHub/ray/.venv/lib/python3.9/site-packages (from requests) (1.26.11)\n",
      "Requirement already satisfied: certifi>=2017.4.17 in /Users/bveeramani/GitHub/ray/.venv/lib/python3.9/site-packages (from requests) (2022.6.15)\n",
      "Requirement already satisfied: charset-normalizer<3,>=2 in /Users/bveeramani/GitHub/ray/.venv/lib/python3.9/site-packages (from requests) (2.1.0)\n",
      "Requirement already satisfied: idna<4,>=2.5 in /Users/bveeramani/GitHub/ray/.venv/lib/python3.9/site-packages (from requests) (3.3)\n",
      "Requirement already satisfied: typing-extensions in /Users/bveeramani/GitHub/ray/.venv/lib/python3.9/site-packages (from torch) (4.3.0)\n",
      "Requirement already satisfied: numpy in /Users/bveeramani/GitHub/ray/.venv/lib/python3.9/site-packages (from torchvision) (1.23.1)\n",
      "Requirement already satisfied: pillow!=8.3.*,>=5.3.0 in /Users/bveeramani/GitHub/ray/.venv/lib/python3.9/site-packages (from torchvision) (9.2.0)\n"
     ]
    }
   ],
   "source": [
    "!pip install requests torch torchvision"
   ]
  },
  {
   "cell_type": "markdown",
   "id": "f18ec14f",
   "metadata": {},
   "source": [
    "## Load and normalize CIFAR-10\n",
    "\n",
    "We'll train our classifier on a popular image dataset called [CIFAR-10](https://www.cs.toronto.edu/~kriz/cifar.html).\n",
    "\n",
    "First, let's load CIFAR-10 into a Ray Dataset."
   ]
  },
  {
   "cell_type": "code",
   "execution_count": 3,
   "id": "d3f2e890",
   "metadata": {},
   "outputs": [
    {
     "name": "stderr",
     "output_type": "stream",
     "text": [
      "2022-08-18 16:06:42,259\tINFO worker.py:1510 -- Started a local Ray instance. View the dashboard at \u001b[1m\u001b[32m127.0.0.1:8265 \u001b[39m\u001b[22m\n",
      "2022-08-18 16:06:43,360\tWARNING read_api.py:291 -- ⚠️  The number of blocks in this dataset (1) limits its parallelism to 1 concurrent tasks. This is much less than the number of available CPU slots in the cluster. Use `.repartition(n)` to increase the number of dataset blocks.\n",
      "\u001b[2m\u001b[36m(_get_read_tasks pid=5902)\u001b[0m 2022-08-18 16:06:43,358\tWARNING torch_datasource.py:55 -- `SimpleTorchDatasource` doesn't support parallel reads. The `parallelism` argument will be ignored.\n"
     ]
    },
    {
     "name": "stdout",
     "output_type": "stream",
     "text": [
      "\u001b[2m\u001b[36m(_execute_read_task pid=5902)\u001b[0m Files already downloaded and verified\n"
     ]
    },
    {
     "name": "stderr",
     "output_type": "stream",
     "text": [
      "2022-08-18 16:06:49,042\tWARNING read_api.py:291 -- ⚠️  The number of blocks in this dataset (1) limits its parallelism to 1 concurrent tasks. This is much less than the number of available CPU slots in the cluster. Use `.repartition(n)` to increase the number of dataset blocks.\n",
      "\u001b[2m\u001b[36m(_get_read_tasks pid=5902)\u001b[0m 2022-08-18 16:06:49,040\tWARNING torch_datasource.py:55 -- `SimpleTorchDatasource` doesn't support parallel reads. The `parallelism` argument will be ignored.\n"
     ]
    },
    {
     "name": "stdout",
     "output_type": "stream",
     "text": [
      "\u001b[2m\u001b[36m(_execute_read_task pid=5902)\u001b[0m Files already downloaded and verified\n"
     ]
    }
   ],
   "source": [
    "import ray\n",
    "from ray.data.datasource import SimpleTorchDatasource\n",
    "import torchvision\n",
    "import torchvision.transforms as transforms\n",
    "\n",
    "transform = transforms.Compose(\n",
    "    [transforms.ToTensor(), transforms.Normalize((0.5, 0.5, 0.5), (0.5, 0.5, 0.5))]\n",
    ")\n",
    "\n",
    "def train_dataset_factory():\n",
    "    return torchvision.datasets.CIFAR10(root=\"./data\", download=True, train=True, transform=transform)\n",
    "\n",
    "def test_dataset_factory():\n",
    "    return torchvision.datasets.CIFAR10(root=\"./data\", download=True, train=False, transform=transform)\n",
    "\n",
    "train_dataset: ray.data.Dataset = ray.data.read_datasource(SimpleTorchDatasource(), dataset_factory=train_dataset_factory)\n",
    "test_dataset: ray.data.Dataset = ray.data.read_datasource(SimpleTorchDatasource(), dataset_factory=test_dataset_factory)"
   ]
  },
  {
   "cell_type": "code",
   "execution_count": 4,
   "id": "a2e7db56",
   "metadata": {},
   "outputs": [
    {
     "data": {
      "application/vnd.jupyter.widget-view+json": {
       "model_id": "25e56b925edf4050bdebdae0c47dd9cc",
       "version_major": 2,
       "version_minor": 0
      },
      "text/plain": [
       "VBox(children=(HTML(value='<h2>Dataset</h2>'), Tab(children=(HTML(value='<div class=\"scrollableTable jp-Render…"
      ]
     },
     "metadata": {},
     "output_type": "display_data"
    }
   ],
   "source": [
    "train_dataset"
   ]
  },
  {
   "cell_type": "markdown",
   "id": "a89b59e8",
   "metadata": {},
   "source": [
    "{py:class}`SimpleTorchDatasource <ray.data.datasource.SimpleTorchDatasource>` is unperformant, so you shouldn't use it with larger datasets.\n",
    "\n",
    "Next, let's represent our data using pandas dataframes instead of tuples. This lets us call {py:meth}`Dataset.iter_torch_batches <ray.data.Dataset.iter_torch_batches>` later in the tutorial."
   ]
  },
  {
   "cell_type": "code",
   "execution_count": 5,
   "id": "9c485ff8",
   "metadata": {},
   "outputs": [
    {
     "name": "stderr",
     "output_type": "stream",
     "text": [
      "Read->Map_Batches:   0%|          | 0/1 [00:00<?, ?it/s]"
     ]
    },
    {
     "name": "stdout",
     "output_type": "stream",
     "text": [
      "\u001b[2m\u001b[36m(_map_block_nosplit pid=5902)\u001b[0m Files already downloaded and verified\n"
     ]
    },
    {
     "name": "stderr",
     "output_type": "stream",
     "text": [
      "Read->Map_Batches: 100%|██████████| 1/1 [00:04<00:00,  4.17s/it]\n",
      "Read->Map_Batches:   0%|          | 0/1 [00:00<?, ?it/s]"
     ]
    },
    {
     "name": "stdout",
     "output_type": "stream",
     "text": [
      "\u001b[2m\u001b[36m(_map_block_nosplit pid=5902)\u001b[0m Files already downloaded and verified\n"
     ]
    },
    {
     "name": "stderr",
     "output_type": "stream",
     "text": [
      "Read->Map_Batches: 100%|██████████| 1/1 [00:01<00:00,  1.43s/it]\n"
     ]
    }
   ],
   "source": [
    "from typing import Tuple\n",
    "import pandas as pd\n",
    "import torch\n",
    "\n",
    "\n",
    "def convert_batch_to_pandas(batch: Tuple[torch.Tensor, int]) -> pd.DataFrame:\n",
    "    images = [image.numpy() for image, _ in batch]\n",
    "    labels = [label for _, label in batch]\n",
    "    return pd.DataFrame({\"image\": images, \"label\": labels})\n",
    "\n",
    "\n",
    "train_dataset = train_dataset.map_batches(convert_batch_to_pandas)\n",
    "test_dataset = test_dataset.map_batches(convert_batch_to_pandas)"
   ]
  },
  {
   "cell_type": "code",
   "execution_count": 6,
   "id": "4b416bbb",
   "metadata": {},
   "outputs": [
    {
     "data": {
      "application/vnd.jupyter.widget-view+json": {
       "model_id": "4947a3b48a284a1585b2f2be40d4c00d",
       "version_major": 2,
       "version_minor": 0
      },
      "text/plain": [
       "VBox(children=(HTML(value='<h2>Dataset</h2>'), Tab(children=(HTML(value='<div class=\"scrollableTable jp-Render…"
      ]
     },
     "metadata": {},
     "output_type": "display_data"
    }
   ],
   "source": [
    "train_dataset"
   ]
  },
  {
   "cell_type": "markdown",
   "id": "a2cc4086",
   "metadata": {},
   "source": [
    "## Train a convolutional neural network\n",
    "\n",
    "Now that we've created our datasets, let's define the training logic."
   ]
  },
  {
   "cell_type": "code",
   "execution_count": 7,
   "id": "ece6f85f",
   "metadata": {},
   "outputs": [],
   "source": [
    "import torch\n",
    "import torch.nn as nn\n",
    "import torch.nn.functional as F\n",
    "\n",
    "\n",
    "class Net(nn.Module):\n",
    "    def __init__(self):\n",
    "        super().__init__()\n",
    "        self.conv1 = nn.Conv2d(3, 6, 5)\n",
    "        self.pool = nn.MaxPool2d(2, 2)\n",
    "        self.conv2 = nn.Conv2d(6, 16, 5)\n",
    "        self.fc1 = nn.Linear(16 * 5 * 5, 120)\n",
    "        self.fc2 = nn.Linear(120, 84)\n",
    "        self.fc3 = nn.Linear(84, 10)\n",
    "\n",
    "    def forward(self, x):\n",
    "        x = self.pool(F.relu(self.conv1(x)))\n",
    "        x = self.pool(F.relu(self.conv2(x)))\n",
    "        x = torch.flatten(x, 1)  # flatten all dimensions except batch\n",
    "        x = F.relu(self.fc1(x))\n",
    "        x = F.relu(self.fc2(x))\n",
    "        x = self.fc3(x)\n",
    "        return x"
   ]
  },
  {
   "cell_type": "markdown",
   "id": "f9d85c9d",
   "metadata": {},
   "source": [
    "We define our training logic in a function called `train_loop_per_worker`. This function contains regular PyTorch code with a few notable exceptions:\n",
    "* We wrap our model with {py:func}`train.torch.prepare_model <ray.train.torch.prepare_model>`.\n",
    "* We call {py:func}`session.get_dataset_shard <ray.air.session.get_dataset_shard>` and {py:meth}`Dataset.iter_torch_batches <ray.data.Dataset.iter_torch_batches>` to get a subset of our training data.\n",
    "* We save model state using {py:func}`session.report <ray.air.session.report>`."
   ]
  },
  {
   "cell_type": "code",
   "execution_count": 8,
   "id": "6d32d183",
   "metadata": {},
   "outputs": [],
   "source": [
    "from ray import train\n",
    "from ray.air import session, Checkpoint\n",
    "from ray.train.torch import TorchCheckpoint\n",
    "import torch.nn as nn\n",
    "import torch.optim as optim\n",
    "import torchvision\n",
    "\n",
    "\n",
    "def train_loop_per_worker(config):\n",
    "    model = train.torch.prepare_model(Net())\n",
    "\n",
    "    criterion = nn.CrossEntropyLoss()\n",
    "    optimizer = optim.SGD(model.parameters(), lr=0.001, momentum=0.9)\n",
    "\n",
    "    train_dataset_shard = session.get_dataset_shard(\"train\")\n",
    "\n",
    "    for epoch in range(2):\n",
    "        running_loss = 0.0\n",
    "        train_dataset_batches = train_dataset_shard.iter_torch_batches(\n",
    "            batch_size=config[\"batch_size\"],\n",
    "        )\n",
    "        for i, batch in enumerate(train_dataset_batches):\n",
    "            # get the inputs and labels\n",
    "            inputs, labels = batch[\"image\"], batch[\"label\"]\n",
    "\n",
    "            # zero the parameter gradients\n",
    "            optimizer.zero_grad()\n",
    "\n",
    "            # forward + backward + optimize\n",
    "            outputs = model(inputs)\n",
    "            loss = criterion(outputs, labels)\n",
    "            loss.backward()\n",
    "            optimizer.step()\n",
    "\n",
    "            # print statistics\n",
    "            running_loss += loss.item()\n",
    "            if i % 2000 == 1999:  # print every 2000 mini-batches\n",
    "                print(f\"[{epoch + 1}, {i + 1:5d}] loss: {running_loss / 2000:.3f}\")\n",
    "                running_loss = 0.0\n",
    "\n",
    "        metrics = dict(running_loss=running_loss)\n",
    "        checkpoint = TorchCheckpoint.from_state_dict(model.module.state_dict())\n",
    "        session.report(metrics, checkpoint=checkpoint)"
   ]
  },
  {
   "cell_type": "markdown",
   "id": "58100f87",
   "metadata": {},
   "source": [
    "Finally, we can train our model. This should take a few minutes to run."
   ]
  },
  {
   "cell_type": "code",
   "execution_count": 9,
   "id": "89a51244",
   "metadata": {},
   "outputs": [
    {
     "data": {
      "text/html": [
       "== Status ==<br>Current time: 2022-08-18 16:07:43 (running for 00:00:46.59)<br>Memory usage on this node: 15.0/32.0 GiB<br>Using FIFO scheduling algorithm.<br>Resources requested: 0/10 CPUs, 0/0 GPUs, 0.0/16.41 GiB heap, 0.0/2.0 GiB objects<br>Result logdir: /Users/bveeramani/ray_results/TorchTrainer_2022-08-18_16-06-56<br>Number of trials: 1/1 (1 TERMINATED)<br><table>\n",
       "<thead>\n",
       "<tr><th>Trial name              </th><th>status    </th><th>loc           </th><th style=\"text-align: right;\">  iter</th><th style=\"text-align: right;\">  total time (s)</th><th style=\"text-align: right;\">  running_loss</th><th style=\"text-align: right;\">  _timestamp</th><th style=\"text-align: right;\">  _time_this_iter_s</th></tr>\n",
       "</thead>\n",
       "<tbody>\n",
       "<tr><td>TorchTrainer_74c2c_00000</td><td>TERMINATED</td><td>127.0.0.1:5917</td><td style=\"text-align: right;\">     2</td><td style=\"text-align: right;\">          44.585</td><td style=\"text-align: right;\">       605.379</td><td style=\"text-align: right;\">  1660864062</td><td style=\"text-align: right;\">            20.4078</td></tr>\n",
       "</tbody>\n",
       "</table><br><br>"
      ],
      "text/plain": [
       "<IPython.core.display.HTML object>"
      ]
     },
     "metadata": {},
     "output_type": "display_data"
    },
    {
     "name": "stderr",
     "output_type": "stream",
     "text": [
      "\u001b[2m\u001b[36m(RayTrainWorker pid=5925)\u001b[0m 2022-08-18 16:06:58,973\tINFO config.py:71 -- Setting up process group for: env:// [rank=0, world_size=2]\n",
      "\u001b[2m\u001b[36m(RayTrainWorker pid=5925)\u001b[0m 2022-08-18 16:07:01,092\tINFO train_loop_utils.py:300 -- Moving model to device: cpu\n",
      "\u001b[2m\u001b[36m(RayTrainWorker pid=5925)\u001b[0m 2022-08-18 16:07:01,092\tINFO train_loop_utils.py:347 -- Wrapping provided model in DDP.\n",
      "\u001b[2m\u001b[36m(RayTrainWorker pid=5926)\u001b[0m /Users/bveeramani/GitHub/ray/python/ray/air/_internal/torch_utils.py:122: UserWarning: The given NumPy array is not writable, and PyTorch does not support non-writable tensors. This means writing to this tensor will result in undefined behavior. You may want to copy the array to protect its data or make it writable before converting it to a tensor. This type of warning will be suppressed for the rest of this program. (Triggered internally at  /Users/runner/work/pytorch/pytorch/pytorch/torch/csrc/utils/tensor_numpy.cpp:178.)\n",
      "\u001b[2m\u001b[36m(RayTrainWorker pid=5926)\u001b[0m   return torch.as_tensor(ndarray, dtype=dtype, device=device)\n",
      "\u001b[2m\u001b[36m(RayTrainWorker pid=5925)\u001b[0m /Users/bveeramani/GitHub/ray/python/ray/air/_internal/torch_utils.py:122: UserWarning: The given NumPy array is not writable, and PyTorch does not support non-writable tensors. This means writing to this tensor will result in undefined behavior. You may want to copy the array to protect its data or make it writable before converting it to a tensor. This type of warning will be suppressed for the rest of this program. (Triggered internally at  /Users/runner/work/pytorch/pytorch/pytorch/torch/csrc/utils/tensor_numpy.cpp:178.)\n",
      "\u001b[2m\u001b[36m(RayTrainWorker pid=5925)\u001b[0m   return torch.as_tensor(ndarray, dtype=dtype, device=device)\n"
     ]
    },
    {
     "name": "stdout",
     "output_type": "stream",
     "text": [
      "\u001b[2m\u001b[36m(RayTrainWorker pid=5926)\u001b[0m [1,  2000] loss: 2.185\n",
      "\u001b[2m\u001b[36m(RayTrainWorker pid=5925)\u001b[0m [1,  2000] loss: 2.174\n",
      "\u001b[2m\u001b[36m(RayTrainWorker pid=5926)\u001b[0m [1,  4000] loss: 1.847\n",
      "\u001b[2m\u001b[36m(RayTrainWorker pid=5925)\u001b[0m [1,  4000] loss: 1.815\n",
      "\u001b[2m\u001b[36m(RayTrainWorker pid=5926)\u001b[0m [1,  6000] loss: 1.660\n",
      "\u001b[2m\u001b[36m(RayTrainWorker pid=5925)\u001b[0m [1,  6000] loss: 1.667\n",
      "\u001b[2m\u001b[36m(RayTrainWorker pid=5926)\u001b[0m [1,  8000] loss: 1.574\n",
      "\u001b[2m\u001b[36m(RayTrainWorker pid=5925)\u001b[0m [1,  8000] loss: 1.610\n",
      "\u001b[2m\u001b[36m(RayTrainWorker pid=5926)\u001b[0m [1, 10000] loss: 1.554\n",
      "\u001b[2m\u001b[36m(RayTrainWorker pid=5925)\u001b[0m [1, 10000] loss: 1.504\n",
      "\u001b[2m\u001b[36m(RayTrainWorker pid=5926)\u001b[0m [1, 12000] loss: 1.466\n",
      "\u001b[2m\u001b[36m(RayTrainWorker pid=5925)\u001b[0m [1, 12000] loss: 1.466\n",
      "Result for TorchTrainer_74c2c_00000:\n",
      "  _time_this_iter_s: 20.898104190826416\n",
      "  _timestamp: 1660864041\n",
      "  _training_iteration: 1\n",
      "  date: 2022-08-18_16-07-22\n",
      "  done: false\n",
      "  experiment_id: 21f096bb9c144c67b0834951a0bf0506\n",
      "  hostname: Balajis-MBP.local.meter\n",
      "  iterations_since_restore: 1\n",
      "  node_ip: 127.0.0.1\n",
      "  pid: 5917\n",
      "  running_loss: 682.5966502912343\n",
      "  should_checkpoint: true\n",
      "  time_since_restore: 24.18083882331848\n",
      "  time_this_iter_s: 24.18083882331848\n",
      "  time_total_s: 24.18083882331848\n",
      "  timestamp: 1660864042\n",
      "  timesteps_since_restore: 0\n",
      "  training_iteration: 1\n",
      "  trial_id: 74c2c_00000\n",
      "  warmup_time: 0.0024068355560302734\n",
      "  \n",
      "\u001b[2m\u001b[36m(RayTrainWorker pid=5926)\u001b[0m [2,  2000] loss: 1.398\n",
      "\u001b[2m\u001b[36m(RayTrainWorker pid=5925)\u001b[0m [2,  2000] loss: 1.413\n",
      "\u001b[2m\u001b[36m(RayTrainWorker pid=5926)\u001b[0m [2,  4000] loss: 1.406\n",
      "\u001b[2m\u001b[36m(RayTrainWorker pid=5925)\u001b[0m [2,  4000] loss: 1.383\n",
      "\u001b[2m\u001b[36m(RayTrainWorker pid=5926)\u001b[0m [2,  6000] loss: 1.382\n",
      "\u001b[2m\u001b[36m(RayTrainWorker pid=5925)\u001b[0m [2,  6000] loss: 1.340\n",
      "\u001b[2m\u001b[36m(RayTrainWorker pid=5926)\u001b[0m [2,  8000] loss: 1.330\n",
      "\u001b[2m\u001b[36m(RayTrainWorker pid=5925)\u001b[0m [2,  8000] loss: 1.358\n",
      "\u001b[2m\u001b[36m(RayTrainWorker pid=5926)\u001b[0m [2, 10000] loss: 1.336\n",
      "\u001b[2m\u001b[36m(RayTrainWorker pid=5925)\u001b[0m [2, 10000] loss: 1.281\n",
      "\u001b[2m\u001b[36m(RayTrainWorker pid=5926)\u001b[0m [2, 12000] loss: 1.243\n",
      "\u001b[2m\u001b[36m(RayTrainWorker pid=5925)\u001b[0m [2, 12000] loss: 1.271\n",
      "Result for TorchTrainer_74c2c_00000:\n",
      "  _time_this_iter_s: 20.40776801109314\n",
      "  _timestamp: 1660864062\n",
      "  _training_iteration: 2\n",
      "  date: 2022-08-18_16-07-42\n",
      "  done: false\n",
      "  experiment_id: 21f096bb9c144c67b0834951a0bf0506\n",
      "  hostname: Balajis-MBP.local.meter\n",
      "  iterations_since_restore: 2\n",
      "  node_ip: 127.0.0.1\n",
      "  pid: 5917\n",
      "  running_loss: 605.379115132615\n",
      "  should_checkpoint: true\n",
      "  time_since_restore: 44.58495497703552\n",
      "  time_this_iter_s: 20.40411615371704\n",
      "  time_total_s: 44.58495497703552\n",
      "  timestamp: 1660864062\n",
      "  timesteps_since_restore: 0\n",
      "  training_iteration: 2\n",
      "  trial_id: 74c2c_00000\n",
      "  warmup_time: 0.0024068355560302734\n",
      "  \n",
      "Result for TorchTrainer_74c2c_00000:\n",
      "  _time_this_iter_s: 20.40776801109314\n",
      "  _timestamp: 1660864062\n",
      "  _training_iteration: 2\n",
      "  date: 2022-08-18_16-07-42\n",
      "  done: true\n",
      "  experiment_id: 21f096bb9c144c67b0834951a0bf0506\n",
      "  experiment_tag: '0'\n",
      "  hostname: Balajis-MBP.local.meter\n",
      "  iterations_since_restore: 2\n",
      "  node_ip: 127.0.0.1\n",
      "  pid: 5917\n",
      "  running_loss: 605.379115132615\n",
      "  should_checkpoint: true\n",
      "  time_since_restore: 44.58495497703552\n",
      "  time_this_iter_s: 20.40411615371704\n",
      "  time_total_s: 44.58495497703552\n",
      "  timestamp: 1660864062\n",
      "  timesteps_since_restore: 0\n",
      "  training_iteration: 2\n",
      "  trial_id: 74c2c_00000\n",
      "  warmup_time: 0.0024068355560302734\n",
      "  \n"
     ]
    },
    {
     "name": "stderr",
     "output_type": "stream",
     "text": [
      "2022-08-18 16:07:43,240\tINFO tune.py:758 -- Total run time: 46.72 seconds (46.59 seconds for the tuning loop).\n"
     ]
    }
   ],
   "source": [
    "from ray.train.torch import TorchTrainer\n",
    "from ray.air.config import ScalingConfig\n",
    "\n",
    "trainer = TorchTrainer(\n",
    "    train_loop_per_worker=train_loop_per_worker,\n",
    "    train_loop_config={\"batch_size\": 2},\n",
    "    datasets={\"train\": train_dataset},\n",
    "    scaling_config=ScalingConfig(num_workers=2)\n",
    ")\n",
    "result = trainer.fit()\n",
    "latest_checkpoint = result.checkpoint"
   ]
  },
  {
   "cell_type": "markdown",
   "id": "1df4faa9",
   "metadata": {},
   "source": [
    "To scale your training script, create a [Ray Cluster](cluster-index) and increase the number of workers. If your cluster contains GPUs, add `\"use_gpu\": True` to your scaling config.\n",
    "\n",
    "```{code-block} python\n",
    "scaling_config=ScalingConfig(num_workers=8, use_gpu=True)\n",
    "```\n",
    "\n",
    "## Test the network on the test data\n",
    "\n",
    "Let's see how our model performs.\n",
    "\n",
    "To classify images in the test dataset, we'll need to create a {py:class}`Predictor <ray.train.predictor.Predictor>`.\n",
    "\n",
    "{py:class}`Predictors <ray.train.predictor.Predictor>` load data from checkpoints and efficiently perform inference. In contrast to {py:class}`TorchPredictor <ray.train.torch.TorchPredictor>`, which performs inference on a single batch, {py:class}`BatchPredictor <ray.train.batch_predictor.BatchPredictor>` performs inference on an entire dataset. Because we want to classify all of the images in the test dataset, we'll use a {py:class}`BatchPredictor <ray.train.batch_predictor.BatchPredictor>`."
   ]
  },
  {
   "cell_type": "code",
   "execution_count": 10,
   "id": "990ec534",
   "metadata": {},
   "outputs": [
    {
     "name": "stderr",
     "output_type": "stream",
     "text": [
      "Map Progress (1 actors 1 pending):   0%|          | 0/1 [00:00<?, ?it/s]\u001b[2m\u001b[36m(BlockWorker pid=5938)\u001b[0m /Users/bveeramani/GitHub/ray/python/ray/air/util/data_batch_conversion.py:158: SettingWithCopyWarning: \n",
      "\u001b[2m\u001b[36m(BlockWorker pid=5938)\u001b[0m A value is trying to be set on a copy of a slice from a DataFrame.\n",
      "\u001b[2m\u001b[36m(BlockWorker pid=5938)\u001b[0m Try using .loc[row_indexer,col_indexer] = value instead\n",
      "\u001b[2m\u001b[36m(BlockWorker pid=5938)\u001b[0m \n",
      "\u001b[2m\u001b[36m(BlockWorker pid=5938)\u001b[0m See the caveats in the documentation: https://pandas.pydata.org/pandas-docs/stable/user_guide/indexing.html#returning-a-view-versus-a-copy\n",
      "\u001b[2m\u001b[36m(BlockWorker pid=5938)\u001b[0m   df.loc[:, col_name] = TensorArray(col)\n",
      "\u001b[2m\u001b[36m(BlockWorker pid=5938)\u001b[0m /Users/bveeramani/GitHub/ray/python/ray/air/util/data_batch_conversion.py:158: SettingWithCopyWarning: \n",
      "\u001b[2m\u001b[36m(BlockWorker pid=5938)\u001b[0m A value is trying to be set on a copy of a slice from a DataFrame.\n",
      "\u001b[2m\u001b[36m(BlockWorker pid=5938)\u001b[0m Try using .loc[row_indexer,col_indexer] = value instead\n",
      "\u001b[2m\u001b[36m(BlockWorker pid=5938)\u001b[0m \n",
      "\u001b[2m\u001b[36m(BlockWorker pid=5938)\u001b[0m See the caveats in the documentation: https://pandas.pydata.org/pandas-docs/stable/user_guide/indexing.html#returning-a-view-versus-a-copy\n",
      "\u001b[2m\u001b[36m(BlockWorker pid=5938)\u001b[0m   df.loc[:, col_name] = TensorArray(col)\n",
      "\u001b[2m\u001b[36m(BlockWorker pid=5938)\u001b[0m /Users/bveeramani/GitHub/ray/python/ray/air/util/data_batch_conversion.py:158: SettingWithCopyWarning: \n",
      "\u001b[2m\u001b[36m(BlockWorker pid=5938)\u001b[0m A value is trying to be set on a copy of a slice from a DataFrame.\n",
      "\u001b[2m\u001b[36m(BlockWorker pid=5938)\u001b[0m Try using .loc[row_indexer,col_indexer] = value instead\n",
      "\u001b[2m\u001b[36m(BlockWorker pid=5938)\u001b[0m \n",
      "\u001b[2m\u001b[36m(BlockWorker pid=5938)\u001b[0m See the caveats in the documentation: https://pandas.pydata.org/pandas-docs/stable/user_guide/indexing.html#returning-a-view-versus-a-copy\n",
      "\u001b[2m\u001b[36m(BlockWorker pid=5938)\u001b[0m   df.loc[:, col_name] = TensorArray(col)\n",
      "Map Progress (1 actors 1 pending): 100%|██████████| 1/1 [00:01<00:00,  1.51s/it]\n"
     ]
    }
   ],
   "source": [
    "from ray.train.torch import TorchPredictor\n",
    "from ray.train.batch_predictor import BatchPredictor\n",
    "\n",
    "batch_predictor = BatchPredictor.from_checkpoint(\n",
    "    checkpoint=latest_checkpoint,\n",
    "    predictor_cls=TorchPredictor,\n",
    "    model=Net(),\n",
    ")\n",
    "\n",
    "outputs: ray.data.Dataset = batch_predictor.predict(\n",
    "    data=test_dataset, dtype=torch.float, feature_columns=[\"image\"], keep_columns=[\"label\"]\n",
    ")"
   ]
  },
  {
   "cell_type": "markdown",
   "id": "d20fd044",
   "metadata": {},
   "source": [
    "Our model outputs a list of energies for each class. To classify an image, we\n",
    "choose the class that has the highest energy."
   ]
  },
  {
   "cell_type": "code",
   "execution_count": 11,
   "id": "00c8a336",
   "metadata": {},
   "outputs": [
    {
     "name": "stderr",
     "output_type": "stream",
     "text": [
      "Map_Batches: 100%|██████████| 1/1 [00:00<00:00, 45.84it/s]"
     ]
    },
    {
     "name": "stdout",
     "output_type": "stream",
     "text": [
      "{'prediction': 3, 'label': 3}\n"
     ]
    },
    {
     "name": "stderr",
     "output_type": "stream",
     "text": [
      "\n"
     ]
    }
   ],
   "source": [
    "import numpy as np\n",
    "\n",
    "def convert_logits_to_classes(df):\n",
    "    best_class = df[\"predictions\"].map(lambda x: x.argmax())\n",
    "    df[\"prediction\"] = best_class\n",
    "    return df[[\"prediction\", \"label\"]]\n",
    "\n",
    "predictions = outputs.map_batches(\n",
    "    convert_logits_to_classes\n",
    ")\n",
    "\n",
    "predictions.show(1)"
   ]
  },
  {
   "cell_type": "markdown",
   "id": "8973efc6",
   "metadata": {},
   "source": [
    "Now that we've classified all of the images, let's figure out which images were\n",
    "classified correctly. The ``predictions`` dataset contains predicted labels and \n",
    "the ``test_dataset`` contains the true labels. To determine whether an image \n",
    "was classified correctly, we join the two datasets and check if the predicted \n",
    "labels are the same as the actual labels."
   ]
  },
  {
   "cell_type": "code",
   "execution_count": 12,
   "id": "8e6233ba",
   "metadata": {},
   "outputs": [
    {
     "name": "stderr",
     "output_type": "stream",
     "text": [
      "Map_Batches: 100%|██████████| 1/1 [00:00<00:00, 136.70it/s]"
     ]
    },
    {
     "name": "stdout",
     "output_type": "stream",
     "text": [
      "{'prediction': 3, 'label': 3, 'correct': True}\n"
     ]
    },
    {
     "name": "stderr",
     "output_type": "stream",
     "text": [
      "\n"
     ]
    }
   ],
   "source": [
    "def calculate_prediction_scores(df):\n",
    "    df[\"correct\"] = df[\"prediction\"] == df[\"label\"]\n",
    "    return df\n",
    "\n",
    "scores = predictions.map_batches(calculate_prediction_scores)\n",
    "\n",
    "scores.show(1)"
   ]
  },
  {
   "cell_type": "markdown",
   "id": "8d401d91",
   "metadata": {},
   "source": [
    "To compute our test accuracy, we'll count how many images the model classified \n",
    "correctly and divide that number by the total number of test images."
   ]
  },
  {
   "cell_type": "code",
   "execution_count": 13,
   "id": "29b2e2c2",
   "metadata": {},
   "outputs": [
    {
     "name": "stderr",
     "output_type": "stream",
     "text": [
      "Shuffle Map: 100%|██████████| 1/1 [00:00<00:00, 120.38it/s]\n",
      "Shuffle Reduce: 100%|██████████| 1/1 [00:00<00:00, 182.42it/s]\n"
     ]
    },
    {
     "data": {
      "text/plain": [
       "0.5491"
      ]
     },
     "execution_count": 13,
     "metadata": {},
     "output_type": "execute_result"
    }
   ],
   "source": [
    "scores.sum(on=\"correct\") / scores.count()"
   ]
  },
  {
   "cell_type": "markdown",
   "id": "f0c84e2c",
   "metadata": {},
   "source": [
    "## Deploy the network and make a prediction\n",
    "\n",
    "Our model seems to perform decently, so let's deploy the model to an \n",
    "endpoint. This allows us to make predictions over the Internet."
   ]
  },
  {
   "cell_type": "code",
   "execution_count": 14,
   "id": "f2faaf4c",
   "metadata": {},
   "outputs": [
    {
     "name": "stderr",
     "output_type": "stream",
     "text": [
      "\u001b[2m\u001b[36m(ServeController pid=5940)\u001b[0m INFO 2022-08-18 16:07:45,540 controller 5940 http_state.py:129 - Starting HTTP proxy with name 'SERVE_CONTROLLER_ACTOR:SERVE_PROXY_ACTOR-b4cd06353d4f06d2ee0c3050e08cdd766d9e23b96c84fb2bacb6455c' on node 'b4cd06353d4f06d2ee0c3050e08cdd766d9e23b96c84fb2bacb6455c' listening on '127.0.0.1:8000'\n",
      "\u001b[2m\u001b[36m(HTTPProxyActor pid=5941)\u001b[0m INFO:     Started server process [5941]\n",
      "\u001b[2m\u001b[36m(ServeController pid=5940)\u001b[0m INFO 2022-08-18 16:07:46,180 controller 5940 deployment_state.py:1232 - Adding 1 replica to deployment 'PredictorDeployment'.\n"
     ]
    },
    {
     "data": {
      "text/plain": [
       "RayServeSyncHandle(deployment='PredictorDeployment')"
      ]
     },
     "execution_count": 14,
     "metadata": {},
     "output_type": "execute_result"
    }
   ],
   "source": [
    "from ray import serve\n",
    "from ray.serve import PredictorDeployment\n",
    "from ray.serve.http_adapters import json_to_ndarray\n",
    "\n",
    "\n",
    "serve.run(\n",
    "    PredictorDeployment.bind(\n",
    "        TorchPredictor,\n",
    "        latest_checkpoint,\n",
    "        model=Net(),\n",
    "        http_adapter=json_to_ndarray,\n",
    "    )\n",
    ")"
   ]
  },
  {
   "cell_type": "markdown",
   "id": "90327e8a",
   "metadata": {},
   "source": [
    "Let's classify a test image."
   ]
  },
  {
   "cell_type": "code",
   "execution_count": 15,
   "id": "40da3863",
   "metadata": {},
   "outputs": [],
   "source": [
    "image = test_dataset.take(1)[0][\"image\"]"
   ]
  },
  {
   "cell_type": "markdown",
   "id": "556d94b7",
   "metadata": {},
   "source": [
    "You can perform inference against a deployed model by posting a dictionary with an `\"array\"` key. To learn more about the default input schema, read the {py:class}`NdArray <ray.serve.http_adapters.NdArray>` documentation."
   ]
  },
  {
   "cell_type": "code",
   "execution_count": 16,
   "id": "45bd85d6",
   "metadata": {},
   "outputs": [
    {
     "data": {
      "text/plain": [
       "[-1.1190943717956543,\n",
       " -1.9333593845367432,\n",
       " 1.5133508443832397,\n",
       " 3.2576074600219727,\n",
       " -0.256170392036438,\n",
       " 1.491028904914856,\n",
       " 1.0580297708511353,\n",
       " 0.04123634099960327,\n",
       " -2.3149514198303223,\n",
       " -2.1277053356170654]"
      ]
     },
     "execution_count": 16,
     "metadata": {},
     "output_type": "execute_result"
    },
    {
     "name": "stderr",
     "output_type": "stream",
     "text": [
      "\u001b[2m\u001b[36m(HTTPProxyActor pid=5941)\u001b[0m INFO 2022-08-18 16:07:47,222 http_proxy 127.0.0.1 http_proxy.py:315 - POST / 200 12.7ms\n",
      "\u001b[2m\u001b[36m(ServeReplica:PredictorDeployment pid=5942)\u001b[0m INFO 2022-08-18 16:07:47,221 PredictorDeployment PredictorDeployment#hSLFCr replica.py:482 - HANDLE __call__ OK 8.1ms\n"
     ]
    }
   ],
   "source": [
    "import requests\n",
    "\n",
    "payload = {\"array\": image.tolist(), \"dtype\": \"float32\"}\n",
    "response = requests.post(\"http://localhost:8000/\", json=payload)\n",
    "response.json()"
   ]
  }
 ],
 "metadata": {
  "kernelspec": {
   "display_name": "Python 3.9.12 ('.venv': venv)",
   "language": "python",
   "name": "python3"
  },
  "language_info": {
   "codemirror_mode": {
    "name": "ipython",
    "version": 3
   },
   "file_extension": ".py",
   "mimetype": "text/x-python",
   "name": "python",
   "nbconvert_exporter": "python",
   "pygments_lexer": "ipython3",
   "version": "3.9.12"
  },
  "vscode": {
   "interpreter": {
    "hash": "a658351b4133f922c5967ed6133cfc05c9f16c53a5161e5843ace3f528fccaf5"
   }
  }
 },
 "nbformat": 4,
 "nbformat_minor": 5
}
